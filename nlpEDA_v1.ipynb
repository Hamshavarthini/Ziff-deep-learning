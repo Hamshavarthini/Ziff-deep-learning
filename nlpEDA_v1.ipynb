{
  "nbformat": 4,
  "nbformat_minor": 0,
  "metadata": {
    "colab": {
      "name": "nlpEDA_v1.ipynb",
      "version": "0.3.2",
      "provenance": [],
      "include_colab_link": true
    },
    "language_info": {
      "codemirror_mode": {
        "name": "ipython",
        "version": 3
      },
      "file_extension": ".py",
      "mimetype": "text/x-python",
      "name": "python",
      "nbconvert_exporter": "python",
      "pygments_lexer": "ipython3",
      "version": "3.6.1"
    },
    "kernelspec": {
      "display_name": "Python 3",
      "language": "python",
      "name": "python3"
    }
  },
  "cells": [
    {
      "cell_type": "markdown",
      "metadata": {
        "id": "view-in-github",
        "colab_type": "text"
      },
      "source": [
        "<a href=\"https://colab.research.google.com/github/Hamshavarthini/Ziff-deep-learning/blob/master/nlpEDA_v1.ipynb\" target=\"_parent\"><img src=\"https://colab.research.google.com/assets/colab-badge.svg\" alt=\"Open In Colab\"/></a>"
      ]
    },
    {
      "cell_type": "markdown",
      "metadata": {
        "colab_type": "text",
        "id": "qgy1Jzg-wyRp"
      },
      "source": [
        "# Data retrieval"
      ]
    },
    {
      "cell_type": "code",
      "metadata": {
        "colab_type": "code",
        "id": "-Z1V23urwyRr",
        "colab": {}
      },
      "source": [
        "import requests\n",
        "from bs4 import BeautifulSoup\n",
        "import pandas as pd\n",
        "import numpy as np\n",
        "import matplotlib.pyplot as plt\n",
        "import seaborn as sns\n",
        "import os\n",
        "\n",
        "%matplotlib inline"
      ],
      "execution_count": 0,
      "outputs": []
    },
    {
      "cell_type": "code",
      "metadata": {
        "colab_type": "code",
        "id": "Chgw6qBTwyRv",
        "colab": {}
      },
      "source": [
        "url = 'https://inshorts.com/en/read/technology'"
      ],
      "execution_count": 0,
      "outputs": []
    },
    {
      "cell_type": "code",
      "metadata": {
        "colab_type": "code",
        "id": "Y6NOaNg-wyRy",
        "colab": {}
      },
      "source": [
        "news_data = []"
      ],
      "execution_count": 0,
      "outputs": []
    },
    {
      "cell_type": "code",
      "metadata": {
        "colab_type": "code",
        "id": "21pavZKVwyR1",
        "outputId": "5de07033-f809-4202-de69-b7b34d97dcbf",
        "colab": {}
      },
      "source": [
        "news_category = url.split('/')\n",
        "news_category"
      ],
      "execution_count": 0,
      "outputs": [
        {
          "output_type": "execute_result",
          "data": {
            "text/plain": [
              "['https:', '', 'inshorts.com', 'en', 'read', 'technology']"
            ]
          },
          "metadata": {
            "tags": []
          },
          "execution_count": 4
        }
      ]
    },
    {
      "cell_type": "code",
      "metadata": {
        "colab_type": "code",
        "id": "zJ9sR2vgwyR7",
        "colab": {}
      },
      "source": [
        "news_category = news_category[-1]"
      ],
      "execution_count": 0,
      "outputs": []
    },
    {
      "cell_type": "code",
      "metadata": {
        "colab_type": "code",
        "id": "q9xSbV5BwyR-",
        "outputId": "3afc4e02-bb23-4907-d326-40baa7fefc58",
        "colab": {}
      },
      "source": [
        "data = requests.get(url)\n",
        "data.content"
      ],
      "execution_count": 0,
      "outputs": [
        {
          "output_type": "error",
          "ename": "ProxyError",
          "evalue": "HTTPSConnectionPool(host='inshorts.com', port=443): Max retries exceeded with url: /en/read/technology (Caused by ProxyError('Cannot connect to proxy.', OSError('Tunnel connection failed: 407 Proxy Authentication Required',)))",
          "traceback": [
            "\u001b[1;31m---------------------------------------------------------------------------\u001b[0m",
            "\u001b[1;31mOSError\u001b[0m                                   Traceback (most recent call last)",
            "\u001b[1;32mC:\\Users\\1603534\\AppData\\Local\\Programs\\Python\\lib\\site-packages\\urllib3\\connectionpool.py\u001b[0m in \u001b[0;36murlopen\u001b[1;34m(self, method, url, body, headers, retries, redirect, assert_same_host, timeout, pool_timeout, release_conn, chunked, body_pos, **response_kw)\u001b[0m\n\u001b[0;32m    593\u001b[0m             \u001b[1;32mif\u001b[0m \u001b[0mis_new_proxy_conn\u001b[0m\u001b[1;33m:\u001b[0m\u001b[1;33m\u001b[0m\u001b[0m\n\u001b[1;32m--> 594\u001b[1;33m                 \u001b[0mself\u001b[0m\u001b[1;33m.\u001b[0m\u001b[0m_prepare_proxy\u001b[0m\u001b[1;33m(\u001b[0m\u001b[0mconn\u001b[0m\u001b[1;33m)\u001b[0m\u001b[1;33m\u001b[0m\u001b[0m\n\u001b[0m\u001b[0;32m    595\u001b[0m \u001b[1;33m\u001b[0m\u001b[0m\n",
            "\u001b[1;32mC:\\Users\\1603534\\AppData\\Local\\Programs\\Python\\lib\\site-packages\\urllib3\\connectionpool.py\u001b[0m in \u001b[0;36m_prepare_proxy\u001b[1;34m(self, conn)\u001b[0m\n\u001b[0;32m    804\u001b[0m         \u001b[0mconn\u001b[0m\u001b[1;33m.\u001b[0m\u001b[0mset_tunnel\u001b[0m\u001b[1;33m(\u001b[0m\u001b[0mself\u001b[0m\u001b[1;33m.\u001b[0m\u001b[0m_proxy_host\u001b[0m\u001b[1;33m,\u001b[0m \u001b[0mself\u001b[0m\u001b[1;33m.\u001b[0m\u001b[0mport\u001b[0m\u001b[1;33m,\u001b[0m \u001b[0mself\u001b[0m\u001b[1;33m.\u001b[0m\u001b[0mproxy_headers\u001b[0m\u001b[1;33m)\u001b[0m\u001b[1;33m\u001b[0m\u001b[0m\n\u001b[1;32m--> 805\u001b[1;33m         \u001b[0mconn\u001b[0m\u001b[1;33m.\u001b[0m\u001b[0mconnect\u001b[0m\u001b[1;33m(\u001b[0m\u001b[1;33m)\u001b[0m\u001b[1;33m\u001b[0m\u001b[0m\n\u001b[0m\u001b[0;32m    806\u001b[0m \u001b[1;33m\u001b[0m\u001b[0m\n",
            "\u001b[1;32mC:\\Users\\1603534\\AppData\\Local\\Programs\\Python\\lib\\site-packages\\urllib3\\connection.py\u001b[0m in \u001b[0;36mconnect\u001b[1;34m(self)\u001b[0m\n\u001b[0;32m    307\u001b[0m             \u001b[1;31m# self._tunnel_host below.\u001b[0m\u001b[1;33m\u001b[0m\u001b[1;33m\u001b[0m\u001b[0m\n\u001b[1;32m--> 308\u001b[1;33m             \u001b[0mself\u001b[0m\u001b[1;33m.\u001b[0m\u001b[0m_tunnel\u001b[0m\u001b[1;33m(\u001b[0m\u001b[1;33m)\u001b[0m\u001b[1;33m\u001b[0m\u001b[0m\n\u001b[0m\u001b[0;32m    309\u001b[0m             \u001b[1;31m# Mark this connection as not reusable\u001b[0m\u001b[1;33m\u001b[0m\u001b[1;33m\u001b[0m\u001b[0m\n",
            "\u001b[1;32mC:\\Users\\1603534\\AppData\\Local\\Programs\\Python\\lib\\http\\client.py\u001b[0m in \u001b[0;36m_tunnel\u001b[1;34m(self)\u001b[0m\n\u001b[0;32m    918\u001b[0m             raise OSError(\"Tunnel connection failed: %d %s\" % (code,\n\u001b[1;32m--> 919\u001b[1;33m                                                                message.strip()))\n\u001b[0m\u001b[0;32m    920\u001b[0m         \u001b[1;32mwhile\u001b[0m \u001b[1;32mTrue\u001b[0m\u001b[1;33m:\u001b[0m\u001b[1;33m\u001b[0m\u001b[0m\n",
            "\u001b[1;31mOSError\u001b[0m: Tunnel connection failed: 407 Proxy Authentication Required",
            "\nDuring handling of the above exception, another exception occurred:\n",
            "\u001b[1;31mMaxRetryError\u001b[0m                             Traceback (most recent call last)",
            "\u001b[1;32mC:\\Users\\1603534\\AppData\\Local\\Programs\\Python\\lib\\site-packages\\requests\\adapters.py\u001b[0m in \u001b[0;36msend\u001b[1;34m(self, request, stream, timeout, verify, cert, proxies)\u001b[0m\n\u001b[0;32m    448\u001b[0m                     \u001b[0mretries\u001b[0m\u001b[1;33m=\u001b[0m\u001b[0mself\u001b[0m\u001b[1;33m.\u001b[0m\u001b[0mmax_retries\u001b[0m\u001b[1;33m,\u001b[0m\u001b[1;33m\u001b[0m\u001b[0m\n\u001b[1;32m--> 449\u001b[1;33m                     \u001b[0mtimeout\u001b[0m\u001b[1;33m=\u001b[0m\u001b[0mtimeout\u001b[0m\u001b[1;33m\u001b[0m\u001b[0m\n\u001b[0m\u001b[0;32m    450\u001b[0m                 )\n",
            "\u001b[1;32mC:\\Users\\1603534\\AppData\\Local\\Programs\\Python\\lib\\site-packages\\urllib3\\connectionpool.py\u001b[0m in \u001b[0;36murlopen\u001b[1;34m(self, method, url, body, headers, retries, redirect, assert_same_host, timeout, pool_timeout, release_conn, chunked, body_pos, **response_kw)\u001b[0m\n\u001b[0;32m    637\u001b[0m             retries = retries.increment(method, url, error=e, _pool=self,\n\u001b[1;32m--> 638\u001b[1;33m                                         _stacktrace=sys.exc_info()[2])\n\u001b[0m\u001b[0;32m    639\u001b[0m             \u001b[0mretries\u001b[0m\u001b[1;33m.\u001b[0m\u001b[0msleep\u001b[0m\u001b[1;33m(\u001b[0m\u001b[1;33m)\u001b[0m\u001b[1;33m\u001b[0m\u001b[0m\n",
            "\u001b[1;32mC:\\Users\\1603534\\AppData\\Local\\Programs\\Python\\lib\\site-packages\\urllib3\\util\\retry.py\u001b[0m in \u001b[0;36mincrement\u001b[1;34m(self, method, url, response, error, _pool, _stacktrace)\u001b[0m\n\u001b[0;32m    398\u001b[0m         \u001b[1;32mif\u001b[0m \u001b[0mnew_retry\u001b[0m\u001b[1;33m.\u001b[0m\u001b[0mis_exhausted\u001b[0m\u001b[1;33m(\u001b[0m\u001b[1;33m)\u001b[0m\u001b[1;33m:\u001b[0m\u001b[1;33m\u001b[0m\u001b[0m\n\u001b[1;32m--> 399\u001b[1;33m             \u001b[1;32mraise\u001b[0m \u001b[0mMaxRetryError\u001b[0m\u001b[1;33m(\u001b[0m\u001b[0m_pool\u001b[0m\u001b[1;33m,\u001b[0m \u001b[0murl\u001b[0m\u001b[1;33m,\u001b[0m \u001b[0merror\u001b[0m \u001b[1;32mor\u001b[0m \u001b[0mResponseError\u001b[0m\u001b[1;33m(\u001b[0m\u001b[0mcause\u001b[0m\u001b[1;33m)\u001b[0m\u001b[1;33m)\u001b[0m\u001b[1;33m\u001b[0m\u001b[0m\n\u001b[0m\u001b[0;32m    400\u001b[0m \u001b[1;33m\u001b[0m\u001b[0m\n",
            "\u001b[1;31mMaxRetryError\u001b[0m: HTTPSConnectionPool(host='inshorts.com', port=443): Max retries exceeded with url: /en/read/technology (Caused by ProxyError('Cannot connect to proxy.', OSError('Tunnel connection failed: 407 Proxy Authentication Required',)))",
            "\nDuring handling of the above exception, another exception occurred:\n",
            "\u001b[1;31mProxyError\u001b[0m                                Traceback (most recent call last)",
            "\u001b[1;32m<ipython-input-6-0d111d6709e9>\u001b[0m in \u001b[0;36m<module>\u001b[1;34m()\u001b[0m\n\u001b[1;32m----> 1\u001b[1;33m \u001b[0mdata\u001b[0m \u001b[1;33m=\u001b[0m \u001b[0mrequests\u001b[0m\u001b[1;33m.\u001b[0m\u001b[0mget\u001b[0m\u001b[1;33m(\u001b[0m\u001b[0murl\u001b[0m\u001b[1;33m)\u001b[0m\u001b[1;33m\u001b[0m\u001b[0m\n\u001b[0m\u001b[0;32m      2\u001b[0m \u001b[0mdata\u001b[0m\u001b[1;33m.\u001b[0m\u001b[0mcontent\u001b[0m\u001b[1;33m\u001b[0m\u001b[0m\n",
            "\u001b[1;32mC:\\Users\\1603534\\AppData\\Local\\Programs\\Python\\lib\\site-packages\\requests\\api.py\u001b[0m in \u001b[0;36mget\u001b[1;34m(url, params, **kwargs)\u001b[0m\n\u001b[0;32m     73\u001b[0m \u001b[1;33m\u001b[0m\u001b[0m\n\u001b[0;32m     74\u001b[0m     \u001b[0mkwargs\u001b[0m\u001b[1;33m.\u001b[0m\u001b[0msetdefault\u001b[0m\u001b[1;33m(\u001b[0m\u001b[1;34m'allow_redirects'\u001b[0m\u001b[1;33m,\u001b[0m \u001b[1;32mTrue\u001b[0m\u001b[1;33m)\u001b[0m\u001b[1;33m\u001b[0m\u001b[0m\n\u001b[1;32m---> 75\u001b[1;33m     \u001b[1;32mreturn\u001b[0m \u001b[0mrequest\u001b[0m\u001b[1;33m(\u001b[0m\u001b[1;34m'get'\u001b[0m\u001b[1;33m,\u001b[0m \u001b[0murl\u001b[0m\u001b[1;33m,\u001b[0m \u001b[0mparams\u001b[0m\u001b[1;33m=\u001b[0m\u001b[0mparams\u001b[0m\u001b[1;33m,\u001b[0m \u001b[1;33m**\u001b[0m\u001b[0mkwargs\u001b[0m\u001b[1;33m)\u001b[0m\u001b[1;33m\u001b[0m\u001b[0m\n\u001b[0m\u001b[0;32m     76\u001b[0m \u001b[1;33m\u001b[0m\u001b[0m\n\u001b[0;32m     77\u001b[0m \u001b[1;33m\u001b[0m\u001b[0m\n",
            "\u001b[1;32mC:\\Users\\1603534\\AppData\\Local\\Programs\\Python\\lib\\site-packages\\requests\\api.py\u001b[0m in \u001b[0;36mrequest\u001b[1;34m(method, url, **kwargs)\u001b[0m\n\u001b[0;32m     58\u001b[0m     \u001b[1;31m# cases, and look like a memory leak in others.\u001b[0m\u001b[1;33m\u001b[0m\u001b[1;33m\u001b[0m\u001b[0m\n\u001b[0;32m     59\u001b[0m     \u001b[1;32mwith\u001b[0m \u001b[0msessions\u001b[0m\u001b[1;33m.\u001b[0m\u001b[0mSession\u001b[0m\u001b[1;33m(\u001b[0m\u001b[1;33m)\u001b[0m \u001b[1;32mas\u001b[0m \u001b[0msession\u001b[0m\u001b[1;33m:\u001b[0m\u001b[1;33m\u001b[0m\u001b[0m\n\u001b[1;32m---> 60\u001b[1;33m         \u001b[1;32mreturn\u001b[0m \u001b[0msession\u001b[0m\u001b[1;33m.\u001b[0m\u001b[0mrequest\u001b[0m\u001b[1;33m(\u001b[0m\u001b[0mmethod\u001b[0m\u001b[1;33m=\u001b[0m\u001b[0mmethod\u001b[0m\u001b[1;33m,\u001b[0m \u001b[0murl\u001b[0m\u001b[1;33m=\u001b[0m\u001b[0murl\u001b[0m\u001b[1;33m,\u001b[0m \u001b[1;33m**\u001b[0m\u001b[0mkwargs\u001b[0m\u001b[1;33m)\u001b[0m\u001b[1;33m\u001b[0m\u001b[0m\n\u001b[0m\u001b[0;32m     61\u001b[0m \u001b[1;33m\u001b[0m\u001b[0m\n\u001b[0;32m     62\u001b[0m \u001b[1;33m\u001b[0m\u001b[0m\n",
            "\u001b[1;32mC:\\Users\\1603534\\AppData\\Local\\Programs\\Python\\lib\\site-packages\\requests\\sessions.py\u001b[0m in \u001b[0;36mrequest\u001b[1;34m(self, method, url, params, data, headers, cookies, files, auth, timeout, allow_redirects, proxies, hooks, stream, verify, cert, json)\u001b[0m\n\u001b[0;32m    531\u001b[0m         }\n\u001b[0;32m    532\u001b[0m         \u001b[0msend_kwargs\u001b[0m\u001b[1;33m.\u001b[0m\u001b[0mupdate\u001b[0m\u001b[1;33m(\u001b[0m\u001b[0msettings\u001b[0m\u001b[1;33m)\u001b[0m\u001b[1;33m\u001b[0m\u001b[0m\n\u001b[1;32m--> 533\u001b[1;33m         \u001b[0mresp\u001b[0m \u001b[1;33m=\u001b[0m \u001b[0mself\u001b[0m\u001b[1;33m.\u001b[0m\u001b[0msend\u001b[0m\u001b[1;33m(\u001b[0m\u001b[0mprep\u001b[0m\u001b[1;33m,\u001b[0m \u001b[1;33m**\u001b[0m\u001b[0msend_kwargs\u001b[0m\u001b[1;33m)\u001b[0m\u001b[1;33m\u001b[0m\u001b[0m\n\u001b[0m\u001b[0;32m    534\u001b[0m \u001b[1;33m\u001b[0m\u001b[0m\n\u001b[0;32m    535\u001b[0m         \u001b[1;32mreturn\u001b[0m \u001b[0mresp\u001b[0m\u001b[1;33m\u001b[0m\u001b[0m\n",
            "\u001b[1;32mC:\\Users\\1603534\\AppData\\Local\\Programs\\Python\\lib\\site-packages\\requests\\sessions.py\u001b[0m in \u001b[0;36msend\u001b[1;34m(self, request, **kwargs)\u001b[0m\n\u001b[0;32m    644\u001b[0m \u001b[1;33m\u001b[0m\u001b[0m\n\u001b[0;32m    645\u001b[0m         \u001b[1;31m# Send the request\u001b[0m\u001b[1;33m\u001b[0m\u001b[1;33m\u001b[0m\u001b[0m\n\u001b[1;32m--> 646\u001b[1;33m         \u001b[0mr\u001b[0m \u001b[1;33m=\u001b[0m \u001b[0madapter\u001b[0m\u001b[1;33m.\u001b[0m\u001b[0msend\u001b[0m\u001b[1;33m(\u001b[0m\u001b[0mrequest\u001b[0m\u001b[1;33m,\u001b[0m \u001b[1;33m**\u001b[0m\u001b[0mkwargs\u001b[0m\u001b[1;33m)\u001b[0m\u001b[1;33m\u001b[0m\u001b[0m\n\u001b[0m\u001b[0;32m    647\u001b[0m \u001b[1;33m\u001b[0m\u001b[0m\n\u001b[0;32m    648\u001b[0m         \u001b[1;31m# Total elapsed time of the request (approximately)\u001b[0m\u001b[1;33m\u001b[0m\u001b[1;33m\u001b[0m\u001b[0m\n",
            "\u001b[1;32mC:\\Users\\1603534\\AppData\\Local\\Programs\\Python\\lib\\site-packages\\requests\\adapters.py\u001b[0m in \u001b[0;36msend\u001b[1;34m(self, request, stream, timeout, verify, cert, proxies)\u001b[0m\n\u001b[0;32m    508\u001b[0m \u001b[1;33m\u001b[0m\u001b[0m\n\u001b[0;32m    509\u001b[0m             \u001b[1;32mif\u001b[0m \u001b[0misinstance\u001b[0m\u001b[1;33m(\u001b[0m\u001b[0me\u001b[0m\u001b[1;33m.\u001b[0m\u001b[0mreason\u001b[0m\u001b[1;33m,\u001b[0m \u001b[0m_ProxyError\u001b[0m\u001b[1;33m)\u001b[0m\u001b[1;33m:\u001b[0m\u001b[1;33m\u001b[0m\u001b[0m\n\u001b[1;32m--> 510\u001b[1;33m                 \u001b[1;32mraise\u001b[0m \u001b[0mProxyError\u001b[0m\u001b[1;33m(\u001b[0m\u001b[0me\u001b[0m\u001b[1;33m,\u001b[0m \u001b[0mrequest\u001b[0m\u001b[1;33m=\u001b[0m\u001b[0mrequest\u001b[0m\u001b[1;33m)\u001b[0m\u001b[1;33m\u001b[0m\u001b[0m\n\u001b[0m\u001b[0;32m    511\u001b[0m \u001b[1;33m\u001b[0m\u001b[0m\n\u001b[0;32m    512\u001b[0m             \u001b[1;32mif\u001b[0m \u001b[0misinstance\u001b[0m\u001b[1;33m(\u001b[0m\u001b[0me\u001b[0m\u001b[1;33m.\u001b[0m\u001b[0mreason\u001b[0m\u001b[1;33m,\u001b[0m \u001b[0m_SSLError\u001b[0m\u001b[1;33m)\u001b[0m\u001b[1;33m:\u001b[0m\u001b[1;33m\u001b[0m\u001b[0m\n",
            "\u001b[1;31mProxyError\u001b[0m: HTTPSConnectionPool(host='inshorts.com', port=443): Max retries exceeded with url: /en/read/technology (Caused by ProxyError('Cannot connect to proxy.', OSError('Tunnel connection failed: 407 Proxy Authentication Required',)))"
          ]
        }
      ]
    },
    {
      "cell_type": "code",
      "metadata": {
        "colab_type": "code",
        "id": "XZ8gHfTBwySC",
        "colab": {}
      },
      "source": [
        "soup = BeautifulSoup(data.content, 'html.parser')"
      ],
      "execution_count": 0,
      "outputs": []
    },
    {
      "cell_type": "code",
      "metadata": {
        "colab_type": "code",
        "id": "qcmvcnDfwySF",
        "colab": {}
      },
      "source": [
        "news_articles = [{'news_headline': headline.find('span', attrs={'itemprop': 'headline'}).string,\n",
        "                  'news_article': article.find('div', attrs={'itemprop': 'articleBody'}).string,\n",
        "                  'news_category': news_category} \n",
        "                 for headline, article in zip(soup.find_all('div', \n",
        "                                                            class_ = ['news-card-title news-right-box']), \n",
        "                                              soup.find_all('div', class_=['news-card-content news-right-box']))]"
      ],
      "execution_count": 0,
      "outputs": []
    },
    {
      "cell_type": "code",
      "metadata": {
        "colab_type": "code",
        "id": "mkrtuxs2wySJ",
        "outputId": "ec1c35d4-e1f0-4749-8ff8-d922c3105b75",
        "colab": {}
      },
      "source": [
        "news_data.extend(news_articles)\n",
        "news_data"
      ],
      "execution_count": 0,
      "outputs": [
        {
          "output_type": "execute_result",
          "data": {
            "text/plain": [
              "[{'news_article': 'Apple on Tuesday unveiled new iPad Pros that have no physical button, have larger screen options of 11 inch and 12.9 inch, and come with Face ID feature for unlocking. Apple has, for the first time, introduced USB-C port in the iPads. While the smaller 11-inch iPad Pro starts from $799, the larger 12.9-inch iPad Pro starts from $999.',\n",
              "  'news_category': 'technology',\n",
              "  'news_headline': 'Apple unveils new iPad Pros with Face ID, no physical button'},\n",
              " {'news_article': \"Facebook-owned messaging app WhatsApp will begin showing advertisements in the 'Status' section of the app, the company has confirmed. The advertisements will be interlinked to the advertiser's profile on WhatsApp. Earlier, a Wall Street Journal report said that the advertisements on WhatsApp could be introduced early next year.\",\n",
              "  'news_category': 'technology',\n",
              "  'news_headline': 'WhatsApp to start showing ads in Status, confirms company'},\n",
              " {'news_article': 'Apple on Tuesday unveiled new MacBook Air laptop with retina display and Touch ID for secure login, with a starting price of $1,199 (over ₹88,000). The starting model has 13.3-inch display, 8GB memory, 128GB SSD, is 15.6 mm thin and weighs 1.25 kg. It can be pre-ordered from today in the US and will be available from November 7.',\n",
              "  'news_category': 'technology',\n",
              "  'news_headline': 'Apple unveils new MacBook Air with Touch ID starting from $1,199'},\n",
              " {'news_article': \"Indian Institute of Technology Madras researchers have designed India's first indigenously developed microprocessor which could be used for mobile computing systems, defence and nuclear sectors. The 'Shakti' family of processors was fabricated at ISRO's Chandigarh semi-conductor laboratory, making it the first 'RISC V Microprocessor' to be completely designed and made in India, IIT Madras said.\",\n",
              "  'news_category': 'technology',\n",
              "  'news_headline': \"IIT-Madras researchers design India's 1st microprocessor 'Shakti'\"},\n",
              " {'news_article': \"An inventor named Lothar Pantel has patented a smartphone design that features four 'notches', one on each corner of the display screen. The patent also describes a system that would automatically move elements like logos, text, and images around to fit within the space provided. Further, it also explains the configurations of cameras, LED flash units, and speakers.\",\n",
              "  'news_category': 'technology',\n",
              "  'news_headline': \"Inventor patents smartphone with 4 'notches' in the display\"},\n",
              " {'news_article': \"The European Union is planning to test an AI-based lie-detector system at certain border checkpoints to screen travellers coming into Europe. The system, which is part of a larger project named 'iBorderCtrl', will use AI to detect 'facial micro-expressions' that can reveal when someone is lying. The experimental trials will begin in Hungary, Greece and Latvia. \",\n",
              "  'news_category': 'technology',\n",
              "  'news_headline': 'EU plans to test AI-based lie detector at border points'},\n",
              " {'news_article': 'The US government has charged two Chinese intelligence officers and their team of hackers of trying to steal commercial aviation technology. The hackers used spear phishing and other means to hack into a French aerospace company that was developing the engines with a US company, the government said. Chinese Foreign Ministry spokesman Lu Kang said the charges were groundless. ',\n",
              "  'news_category': 'technology',\n",
              "  'news_headline': 'US govt accuses Chinese hackers of stealing jet engine tech'},\n",
              " {'news_article': 'While talking about misuse of private data, World Wide Web creator Tim Berners-Lee has said, \"I am disappointed with the current state of the Web.\" He also said, \"We have lost the feeling of individual empowerment...I think the optimism has cracked.\" Social media is being used to propagate hate, he added while referring to Facebook and Twitter.',\n",
              "  'news_category': 'technology',\n",
              "  'news_headline': \"I'm disappointed with Web's state: World Wide Web creator\"},\n",
              " {'news_article': \"Richard DeVaul, an executive at Google's parent company Alphabet’s X research division, has reportedly resigned over sexual harassment allegations against him. It comes after an NYT report claimed that DeVaul had asked a job candidate to remove her shirt, offering a back massage. This follows criticism of Google over its mishandling of sexual harassment claims. \",\n",
              "  'news_category': 'technology',\n",
              "  'news_headline': 'Alphabet exec resigns over harassment allegation: Report'},\n",
              " {'news_article': \"Researchers have developed a solar cell that uses an artificial photosynthesis system to generate hydrogen fuel and electricity at the same time. The silicon component in the cell splits the current produced by the sunlight's energy, and allowing it to split the water in hydrogen, oxygen, and electricity. According to the researchers, the device has a combined efficiency of 20.2%.\",\n",
              "  'news_category': 'technology',\n",
              "  'news_headline': 'Solar cell generating hydrogen, electricity at same time made'},\n",
              " {'news_article': 'Facebook-owned messaging company WhatsApp\\'s CEO Chris Daniels has said, \"We’ll have a head of WhatsApp India named by the end of the year.\" Talking about tracing fake news on the platform, he further said, “We want to keep WhatsApp the way it was built to be...a place for private conversations.” Daniels is on his second visit to India. ',\n",
              "  'news_category': 'technology',\n",
              "  'news_headline': 'WhatsApp India head will be named by year end: CEO '},\n",
              " {'news_article': 'Over 200 Google employees are planning a walkout or \"women’s walk\" on Thursday in protest against the company\\'s reported protection of employees who had allegedly engaged in sexual misconduct, according to a report. This comes amid reports claiming Google paid Android Co-founder Andy Rubin a $90-million severance package despite claims that he forced oral sex on an employee.',\n",
              "  'news_category': 'technology',\n",
              "  'news_headline': '200 Google employees to protest sexual misconduct: Reports'},\n",
              " {'news_article': 'YouTuber Logan Paul in a recent interview said he lost $5 million for posting a video showing the body of an apparent suicide victim in Japan\\'s Aokigahara forest. YouTube had removed Logan from Google\\'s preferred partner program in January after he posted the video. \"I was so used to people liking me...I hate being hated,\" he said on facing criticism.  ',\n",
              "  'news_category': 'technology',\n",
              "  'news_headline': 'YouTuber lost $5mn after he posted video of suicide victim '},\n",
              " {'news_article': 'Luka Sabbat, a model and a social media influencer with 1.4 million Instagram followers, is being sued for $90,000 by the firm PR Consulting on failure to promote Snap Spectacles. They claimed Sabbat failed to uphold clauses of their $60,000 contract. He allegedly made one Instagram Post and one Story while he was expected to make four on the platform.',\n",
              "  'news_category': 'technology',\n",
              "  'news_headline': 'Model sued for $90,000 on failure to promote Snap Spectacles'},\n",
              " {'news_article': 'Microsoft CEO Satya Nadella at a recent event called on technology companies to protect users\\' data, and said, \"All of us will have...treat privacy as a human right.\" Talking about cyber threats, Nadella also said the companies have to use their power to protect common citizens and small businesses. He was speaking at the Microsoft Future Decoded conference in London. ',\n",
              "  'news_category': 'technology',\n",
              "  'news_headline': 'We need to treat privacy as a human right: Microsoft CEO'},\n",
              " {'news_article': 'Facebook earlier this week approved a fake political advertisement marked as \"paid for by Cambridge Analytica\", the British data firm involved in the social network\\'s data scandal. The ad, now removed but still visible on Facebook\\'s ad transparency portal, reads, \"Our current system is broken.\" The ad surpassed Facebook\\'s verification process which ran for two days to a limited audience.',\n",
              "  'news_category': 'technology',\n",
              "  'news_headline': 'Facebook approved fake Cambridge Analytica ad on its site'},\n",
              " {'news_article': \"Hundreds of Google employees around the world are staging walkouts to protest the company's handling of sexual harassment cases. The walkout organisers said Google must end forced arbitration, and publicly report sexual harassment statistics. This follows a report that said Google in 2014 gave a $90-million exit package to Android Co-Founder Andy Rubin after he was accused of sexual harassment.\",\n",
              "  'news_category': 'technology',\n",
              "  'news_headline': 'Google workers walk out to protest handling of sexual harassment'},\n",
              " {'news_article': \"Snapdeal's former Chief Product Officer (CPO) Anand Chandrasekaran has quit Facebook after joining the company two years ago. An active angel investor of the Indian startup ecosystem, Anand Chandrasekaran was the director of platform and product partnerships at Facebook. Chandrasekaran reportedly quit the company to explore opportunities in the US city San Francisco's Bay Area. \",\n",
              "  'news_category': 'technology',\n",
              "  'news_headline': 'Snapdeal ex-CPO Anand Chandrasekaran quits FB after 2 years'},\n",
              " {'news_article': 'Stockholm\\'s authorities have announced they would block Apple\\'s plans to build its flagship store in one of the Swedish capital\\'s oldest places, Kungsträdgården park. Conservationists and official bodies protested against the plans saying the place holds historic importance, connecting the city to the monarchy. \"City parks are a little bit holy...You can’t privatise a park,\" a protestor said. ',\n",
              "  'news_category': 'technology',\n",
              "  'news_headline': \"Stockholm to block Apple's plans for store in oldest park\"},\n",
              " {'news_article': 'Users have reported that some Pixel 3 XL units are displaying a second, virtual notch on different sides of the display screen. Users claimed that the issue temporarily went away after restarting the phone or changing the developer settings. Responding to the reported issue, a Google spokesperson confirmed that a fix should be \"coming soon\".',\n",
              "  'news_category': 'technology',\n",
              "  'news_headline': \"Users report 'second notch' on Pixel 3 XL, Google responds\"},\n",
              " {'news_article': 'Microsoft has denied reports claiming the company routinely shared Indian bank customers\\' financial details with the US intelligence agencies. \"No government has direct access to any of our users\\' data. Data privacy is a top priority for us,\" a company spokesperson said. However, the company is required to share any customer data under orders from government agencies, the spokesperson added.',\n",
              "  'news_category': 'technology',\n",
              "  'news_headline': \"Microsoft denies sharing Indian bank customers' data with US\"},\n",
              " {'news_article': \"Two separate parliamentary committees, in the UK and Canada, have summoned Facebook CEO Mark Zuckerberg for a joint hearing over disinformation and fake news. It will also probe questions about Facebook's role in the Cambridge Analytica scandal and the recent data breach which compromised data of over 50 million users. Recently, UK fined Facebook $645,000 over the Cambridge Analytica scandal. \",\n",
              "  'news_category': 'technology',\n",
              "  'news_headline': 'FB CEO Zuckerberg summoned over fake news by UK, Canada'},\n",
              " {'news_article': 'During Facebook\\'s earnings call on Tuesday, the social media major\\'s CEO Mark Zuckerberg said, \"Our biggest competitor by far is iMessage\", referring to Apple\\'s in-built messaging service. Further talking about iPhone having a strong base in important countries like the US, Zuckerberg also said, \"Apple bundles iMessage as a default texting app and it\\'s still ahead.\"  ',\n",
              "  'news_category': 'technology',\n",
              "  'news_headline': 'Our biggest competitor by far is iMessage: Facebook CEO'},\n",
              " {'news_article': 'Microsoft Co-founder Bill Gates and Berkshire Hathaway\\'s CEO Warren Buffett dressed up as King Arthur and Merlin respectively, on Halloween. \"Happy Halloween from King Arthur and Merlin! I can always count on Warren to put together a good costume,\" Gates said in an Instagram post. Halloween, observed on October 31, is celebrated to remember the dead, including saints and martyrs. ',\n",
              "  'news_category': 'technology',\n",
              "  'news_headline': 'Gates, Buffett dress up as King Arthur, Merlin on Halloween '},\n",
              " {'news_article': \"Alphabet's Waymo on Tuesday received the first permit from California, US to test driverless vehicles without a backup driver in the front seat. The permit includes day and night testing on city streets, rural roads and highways with posted speed limits of up to 104 kmph. Waymo must also carry around $5 million in insurance and notify local communities. \",\n",
              "  'news_category': 'technology',\n",
              "  'news_headline': 'Waymo gets nod for self-driving cars without safety driver'}]"
            ]
          },
          "metadata": {
            "tags": []
          },
          "execution_count": 9
        }
      ]
    },
    {
      "cell_type": "code",
      "metadata": {
        "colab_type": "code",
        "id": "GjsAGXcEwySN",
        "colab": {}
      },
      "source": [
        "df = pd.DataFrame(news_data)"
      ],
      "execution_count": 0,
      "outputs": []
    },
    {
      "cell_type": "code",
      "metadata": {
        "colab_type": "code",
        "id": "cKWdj63zwySQ",
        "colab": {}
      },
      "source": [
        "df = df[['news_headline', 'news_article', 'news_category']]"
      ],
      "execution_count": 0,
      "outputs": []
    },
    {
      "cell_type": "code",
      "metadata": {
        "colab_type": "code",
        "id": "QPebjVhOwyST",
        "outputId": "0d19e464-583c-40d5-c7b1-257a103989e3",
        "colab": {}
      },
      "source": [
        "df.head(3)"
      ],
      "execution_count": 0,
      "outputs": [
        {
          "output_type": "execute_result",
          "data": {
            "text/html": [
              "<div>\n",
              "<style scoped>\n",
              "    .dataframe tbody tr th:only-of-type {\n",
              "        vertical-align: middle;\n",
              "    }\n",
              "\n",
              "    .dataframe tbody tr th {\n",
              "        vertical-align: top;\n",
              "    }\n",
              "\n",
              "    .dataframe thead th {\n",
              "        text-align: right;\n",
              "    }\n",
              "</style>\n",
              "<table border=\"1\" class=\"dataframe\">\n",
              "  <thead>\n",
              "    <tr style=\"text-align: right;\">\n",
              "      <th></th>\n",
              "      <th>news_headline</th>\n",
              "      <th>news_article</th>\n",
              "      <th>news_category</th>\n",
              "    </tr>\n",
              "  </thead>\n",
              "  <tbody>\n",
              "    <tr>\n",
              "      <th>0</th>\n",
              "      <td>Apple unveils new iPad Pros with Face ID, no p...</td>\n",
              "      <td>Apple on Tuesday unveiled new iPad Pros that h...</td>\n",
              "      <td>technology</td>\n",
              "    </tr>\n",
              "    <tr>\n",
              "      <th>1</th>\n",
              "      <td>WhatsApp to start showing ads in Status, confi...</td>\n",
              "      <td>Facebook-owned messaging app WhatsApp will beg...</td>\n",
              "      <td>technology</td>\n",
              "    </tr>\n",
              "    <tr>\n",
              "      <th>2</th>\n",
              "      <td>Apple unveils new MacBook Air with Touch ID st...</td>\n",
              "      <td>Apple on Tuesday unveiled new MacBook Air lapt...</td>\n",
              "      <td>technology</td>\n",
              "    </tr>\n",
              "  </tbody>\n",
              "</table>\n",
              "</div>"
            ],
            "text/plain": [
              "                                       news_headline  \\\n",
              "0  Apple unveils new iPad Pros with Face ID, no p...   \n",
              "1  WhatsApp to start showing ads in Status, confi...   \n",
              "2  Apple unveils new MacBook Air with Touch ID st...   \n",
              "\n",
              "                                        news_article news_category  \n",
              "0  Apple on Tuesday unveiled new iPad Pros that h...    technology  \n",
              "1  Facebook-owned messaging app WhatsApp will beg...    technology  \n",
              "2  Apple on Tuesday unveiled new MacBook Air lapt...    technology  "
            ]
          },
          "metadata": {
            "tags": []
          },
          "execution_count": 12
        }
      ]
    },
    {
      "cell_type": "markdown",
      "metadata": {
        "colab_type": "text",
        "id": "ZPCzgz2ZwySW"
      },
      "source": [
        "# Prepare user defined function to extract data from inshorts.com"
      ]
    },
    {
      "cell_type": "code",
      "metadata": {
        "colab_type": "code",
        "id": "XfwI4DfwwySX",
        "colab": {}
      },
      "source": [
        "urls_list = ['https://inshorts.com/en/read/technology',\n",
        "             'https://inshorts.com/en/read/sports',\n",
        "             'https://inshorts.com/en/read/world']"
      ],
      "execution_count": 0,
      "outputs": []
    },
    {
      "cell_type": "code",
      "metadata": {
        "colab_type": "code",
        "id": "jitD63HQwySa",
        "colab": {}
      },
      "source": [
        "def datasetPrepare(urls_list):\n",
        "    news_data = []\n",
        "    for url in urls_list:\n",
        "        news_category = url.split('/')[-1]\n",
        "        data = requests.get(url)\n",
        "        soup = BeautifulSoup(data.content, 'html.parser')\n",
        "        news_articles = [{'news_headline': headline.find('span', attrs={\"itemprop\": \"headline\"}).string,\n",
        "                          'news_article': article.find('div', attrs={\"itemprop\": \"articleBody\"}).string,\n",
        "                          'news_category': news_category}\n",
        "                         \n",
        "                            for headline, article in \n",
        "                             zip(soup.find_all('div', class_=[\"news-card-title news-right-box\"]),\n",
        "                                 soup.find_all('div', class_=[\"news-card-content news-right-box\"]))\n",
        "                        ]\n",
        "        news_data.extend(news_articles) \n",
        "    df =  pd.DataFrame(news_data)\n",
        "    df = df[['news_headline', 'news_article', 'news_category']]\n",
        "    return df    "
      ],
      "execution_count": 0,
      "outputs": []
    },
    {
      "cell_type": "code",
      "metadata": {
        "colab_type": "code",
        "id": "ruY2Z-DIwySd",
        "colab": {}
      },
      "source": [
        "news_df = datasetPrepare(urls_list)"
      ],
      "execution_count": 0,
      "outputs": []
    },
    {
      "cell_type": "code",
      "metadata": {
        "colab_type": "code",
        "id": "8vn7RLB8wySh",
        "outputId": "76225b03-43a2-4c3f-ded1-91d4125bb488",
        "colab": {}
      },
      "source": [
        "news_df.info()"
      ],
      "execution_count": 0,
      "outputs": [
        {
          "output_type": "stream",
          "text": [
            "<class 'pandas.core.frame.DataFrame'>\n",
            "RangeIndex: 75 entries, 0 to 74\n",
            "Data columns (total 3 columns):\n",
            "news_headline    75 non-null object\n",
            "news_article     75 non-null object\n",
            "news_category    75 non-null object\n",
            "dtypes: object(3)\n",
            "memory usage: 1.8+ KB\n"
          ],
          "name": "stdout"
        }
      ]
    },
    {
      "cell_type": "code",
      "metadata": {
        "colab_type": "code",
        "id": "TCfWltFHwySm",
        "outputId": "9e27dfc6-5bc9-49b4-9a39-cab3d60ca4df",
        "colab": {}
      },
      "source": [
        "news_df.head(5)"
      ],
      "execution_count": 0,
      "outputs": [
        {
          "output_type": "execute_result",
          "data": {
            "text/html": [
              "<div>\n",
              "<style scoped>\n",
              "    .dataframe tbody tr th:only-of-type {\n",
              "        vertical-align: middle;\n",
              "    }\n",
              "\n",
              "    .dataframe tbody tr th {\n",
              "        vertical-align: top;\n",
              "    }\n",
              "\n",
              "    .dataframe thead th {\n",
              "        text-align: right;\n",
              "    }\n",
              "</style>\n",
              "<table border=\"1\" class=\"dataframe\">\n",
              "  <thead>\n",
              "    <tr style=\"text-align: right;\">\n",
              "      <th></th>\n",
              "      <th>news_headline</th>\n",
              "      <th>news_article</th>\n",
              "      <th>news_category</th>\n",
              "    </tr>\n",
              "  </thead>\n",
              "  <tbody>\n",
              "    <tr>\n",
              "      <th>0</th>\n",
              "      <td>Apple unveils new iPad Pros with Face ID, no p...</td>\n",
              "      <td>Apple on Tuesday unveiled new iPad Pros that h...</td>\n",
              "      <td>technology</td>\n",
              "    </tr>\n",
              "    <tr>\n",
              "      <th>1</th>\n",
              "      <td>WhatsApp to start showing ads in Status, confi...</td>\n",
              "      <td>Facebook-owned messaging app WhatsApp will beg...</td>\n",
              "      <td>technology</td>\n",
              "    </tr>\n",
              "    <tr>\n",
              "      <th>2</th>\n",
              "      <td>Apple unveils new MacBook Air with Touch ID st...</td>\n",
              "      <td>Apple on Tuesday unveiled new MacBook Air lapt...</td>\n",
              "      <td>technology</td>\n",
              "    </tr>\n",
              "    <tr>\n",
              "      <th>3</th>\n",
              "      <td>IIT-Madras researchers design India's 1st micr...</td>\n",
              "      <td>Indian Institute of Technology Madras research...</td>\n",
              "      <td>technology</td>\n",
              "    </tr>\n",
              "    <tr>\n",
              "      <th>4</th>\n",
              "      <td>Inventor patents smartphone with 4 'notches' i...</td>\n",
              "      <td>An inventor named Lothar Pantel has patented a...</td>\n",
              "      <td>technology</td>\n",
              "    </tr>\n",
              "  </tbody>\n",
              "</table>\n",
              "</div>"
            ],
            "text/plain": [
              "                                       news_headline  \\\n",
              "0  Apple unveils new iPad Pros with Face ID, no p...   \n",
              "1  WhatsApp to start showing ads in Status, confi...   \n",
              "2  Apple unveils new MacBook Air with Touch ID st...   \n",
              "3  IIT-Madras researchers design India's 1st micr...   \n",
              "4  Inventor patents smartphone with 4 'notches' i...   \n",
              "\n",
              "                                        news_article news_category  \n",
              "0  Apple on Tuesday unveiled new iPad Pros that h...    technology  \n",
              "1  Facebook-owned messaging app WhatsApp will beg...    technology  \n",
              "2  Apple on Tuesday unveiled new MacBook Air lapt...    technology  \n",
              "3  Indian Institute of Technology Madras research...    technology  \n",
              "4  An inventor named Lothar Pantel has patented a...    technology  "
            ]
          },
          "metadata": {
            "tags": []
          },
          "execution_count": 17
        }
      ]
    },
    {
      "cell_type": "code",
      "metadata": {
        "colab_type": "code",
        "id": "_rXVQKGNwySp",
        "outputId": "ee94aa5b-cbf0-437f-d4ab-f1693136257e",
        "colab": {}
      },
      "source": [
        "news_df.news_category.value_counts()"
      ],
      "execution_count": 0,
      "outputs": [
        {
          "output_type": "execute_result",
          "data": {
            "text/plain": [
              "technology    25\n",
              "world         25\n",
              "sports        25\n",
              "Name: news_category, dtype: int64"
            ]
          },
          "metadata": {
            "tags": []
          },
          "execution_count": 18
        }
      ]
    },
    {
      "cell_type": "markdown",
      "metadata": {
        "colab_type": "text",
        "id": "NBK3ZgwUwySt"
      },
      "source": [
        "# Text Wrangling and Pre-processing"
      ]
    },
    {
      "cell_type": "code",
      "metadata": {
        "colab_type": "code",
        "collapsed": true,
        "id": "T-u9BQf2wySu",
        "colab": {}
      },
      "source": [
        "import spacy\n",
        "import nltk\n",
        "from nltk.tokenize.toktok import ToktokTokenizer\n",
        "import re\n",
        "import unicodedata"
      ],
      "execution_count": 0,
      "outputs": []
    },
    {
      "cell_type": "code",
      "metadata": {
        "colab_type": "code",
        "collapsed": true,
        "id": "55J-3HE6wySx",
        "colab": {}
      },
      "source": [
        "from contractions import CONTRACTION_MAP"
      ],
      "execution_count": 0,
      "outputs": []
    },
    {
      "cell_type": "code",
      "metadata": {
        "colab_type": "code",
        "collapsed": true,
        "id": "0fO_jEzBwyS0",
        "colab": {}
      },
      "source": [
        "nlp = spacy.load('en')"
      ],
      "execution_count": 0,
      "outputs": []
    },
    {
      "cell_type": "code",
      "metadata": {
        "colab_type": "code",
        "id": "Cegz8iznwyS3",
        "outputId": "30af7c64-a65e-426e-a8d8-09aeb42ae107",
        "colab": {}
      },
      "source": [
        "nltk.download('stopwords')"
      ],
      "execution_count": 0,
      "outputs": [
        {
          "output_type": "stream",
          "text": [
            "[nltk_data] Downloading package stopwords to\n",
            "[nltk_data]     C:\\Users\\Narayana_GLB\\AppData\\Roaming\\nltk_data...\n",
            "[nltk_data]   Package stopwords is already up-to-date!\n"
          ],
          "name": "stdout"
        },
        {
          "output_type": "execute_result",
          "data": {
            "text/plain": [
              "True"
            ]
          },
          "metadata": {
            "tags": []
          },
          "execution_count": 22
        }
      ]
    },
    {
      "cell_type": "code",
      "metadata": {
        "colab_type": "code",
        "collapsed": true,
        "id": "yhmWcpH_wyS6",
        "colab": {}
      },
      "source": [
        "tokenizer = ToktokTokenizer()\n",
        "stopword_list = nltk.corpus.stopwords.words('english')\n",
        "stopword_list.remove('no')\n",
        "stopword_list.remove('not')"
      ],
      "execution_count": 0,
      "outputs": []
    },
    {
      "cell_type": "markdown",
      "metadata": {
        "colab_type": "text",
        "id": "Wh9CrhePwyS9"
      },
      "source": [
        "## Remove HTML tags"
      ]
    },
    {
      "cell_type": "code",
      "metadata": {
        "colab_type": "code",
        "id": "1Xit3_ckwyS9",
        "outputId": "ae87d6d4-7eb4-4a35-dd24-5029d64c2066",
        "colab": {}
      },
      "source": [
        "def strip_html_tags(text):\n",
        "    soup = BeautifulSoup(text, \"html.parser\")\n",
        "    stripped_text = soup.get_text()\n",
        "    return stripped_text\n",
        "\n",
        "strip_html_tags('<html><h2>Some important text</h2></html>')"
      ],
      "execution_count": 0,
      "outputs": [
        {
          "output_type": "execute_result",
          "data": {
            "text/plain": [
              "'Some important text'"
            ]
          },
          "metadata": {
            "tags": []
          },
          "execution_count": 24
        }
      ]
    },
    {
      "cell_type": "markdown",
      "metadata": {
        "colab_type": "text",
        "id": "HBbRSoPkwyTB"
      },
      "source": [
        "## Remove accented characters"
      ]
    },
    {
      "cell_type": "code",
      "metadata": {
        "colab_type": "code",
        "id": "TOBdIlTWwyTB",
        "outputId": "cba26cda-3871-4cfb-c480-d611ac9332f9",
        "colab": {}
      },
      "source": [
        "def remove_accented_chars(text):\n",
        "    text = unicodedata.normalize('NFKD', text).encode('ascii', 'ignore').decode('utf-8', 'ignore')\n",
        "    return text\n",
        "\n",
        "remove_accented_chars('Sómě Áccěntěd těxt')"
      ],
      "execution_count": 0,
      "outputs": [
        {
          "output_type": "execute_result",
          "data": {
            "text/plain": [
              "'Some Accented text'"
            ]
          },
          "metadata": {
            "tags": []
          },
          "execution_count": 25
        }
      ]
    },
    {
      "cell_type": "markdown",
      "metadata": {
        "colab_type": "text",
        "id": "c-0MQQl9wyTF"
      },
      "source": [
        "## Expand contractions"
      ]
    },
    {
      "cell_type": "code",
      "metadata": {
        "colab_type": "code",
        "collapsed": true,
        "id": "nYyg1ghEwyTG",
        "colab": {}
      },
      "source": [
        "def expand_contractions(text, contraction_mapping=CONTRACTION_MAP):\n",
        "    \n",
        "    contractions_pattern = re.compile('({})'.format('|'.join(contraction_mapping.keys())), \n",
        "                                      flags=re.IGNORECASE|re.DOTALL)\n",
        "    def expand_match(contraction):\n",
        "        match = contraction.group(0)\n",
        "        first_char = match[0]\n",
        "        expanded_contraction = contraction_mapping.get(match)\\\n",
        "                                if contraction_mapping.get(match)\\\n",
        "                                else contraction_mapping.get(match.lower())                       \n",
        "        expanded_contraction = first_char+expanded_contraction[1:]\n",
        "        return expanded_contraction\n",
        "        \n",
        "    expanded_text = contractions_pattern.sub(expand_match, text)\n",
        "    expanded_text = re.sub(\"'\", \"\", expanded_text)\n",
        "    return expanded_text"
      ],
      "execution_count": 0,
      "outputs": []
    },
    {
      "cell_type": "code",
      "metadata": {
        "colab_type": "code",
        "id": "1uhJeJpxwyTI",
        "outputId": "899908de-eb44-4152-d7be-1488302cf9f0",
        "colab": {}
      },
      "source": [
        "expand_contractions(\"Y'all can't expand contractions I'd think\")"
      ],
      "execution_count": 0,
      "outputs": [
        {
          "output_type": "execute_result",
          "data": {
            "text/plain": [
              "'You all cannot expand contractions I would think'"
            ]
          },
          "metadata": {
            "tags": []
          },
          "execution_count": 27
        }
      ]
    },
    {
      "cell_type": "markdown",
      "metadata": {
        "colab_type": "text",
        "id": "8u9SuUXOwyTM"
      },
      "source": [
        "## Remove special characters"
      ]
    },
    {
      "cell_type": "code",
      "metadata": {
        "colab_type": "code",
        "collapsed": true,
        "id": "lCmBJeI5wyTN",
        "colab": {}
      },
      "source": [
        "def remove_special_characters(text, remove_digits=False):\n",
        "    pattern = r'[^a-zA-z0-9\\s]' if not remove_digits else r'[^a-zA-z\\s]'\n",
        "    text = re.sub(pattern, '', text)\n",
        "    return text"
      ],
      "execution_count": 0,
      "outputs": []
    },
    {
      "cell_type": "code",
      "metadata": {
        "colab_type": "code",
        "id": "R9IGXQ-LwyTQ",
        "outputId": "42608e82-0fef-4fa3-8e78-0fdb10f514b4",
        "colab": {}
      },
      "source": [
        "remove_special_characters(\"Well this was fun! What do you think? 123#@!\", remove_digits=True)"
      ],
      "execution_count": 0,
      "outputs": [
        {
          "output_type": "execute_result",
          "data": {
            "text/plain": [
              "'Well this was fun What do you think '"
            ]
          },
          "metadata": {
            "tags": []
          },
          "execution_count": 29
        }
      ]
    },
    {
      "cell_type": "markdown",
      "metadata": {
        "colab_type": "text",
        "id": "Ryt_VSOVwyTT"
      },
      "source": [
        "## Text lemmatization"
      ]
    },
    {
      "cell_type": "code",
      "metadata": {
        "colab_type": "code",
        "collapsed": true,
        "id": "uNR0fNT4wyTU",
        "colab": {}
      },
      "source": [
        "def lemmatize_text(text):\n",
        "    text = nlp(text)\n",
        "    text = ' '.join([word.lemma_ if word.lemma_ != '-PRON-' else word.text for word in text])\n",
        "    return text"
      ],
      "execution_count": 0,
      "outputs": []
    },
    {
      "cell_type": "code",
      "metadata": {
        "colab_type": "code",
        "id": "do-LTxKRwyTX",
        "outputId": "3acb86ab-8924-4938-cf21-d3709b1eff91",
        "colab": {}
      },
      "source": [
        "lemmatize_text(\"My system keeps crashing! his crashed yesterday, ours crashes daily\")"
      ],
      "execution_count": 0,
      "outputs": [
        {
          "output_type": "execute_result",
          "data": {
            "text/plain": [
              "'My system keep crash ! his crashed yesterday , ours crash daily'"
            ]
          },
          "metadata": {
            "tags": []
          },
          "execution_count": 31
        }
      ]
    },
    {
      "cell_type": "markdown",
      "metadata": {
        "colab_type": "text",
        "id": "jWmDYl9swyTa"
      },
      "source": [
        "## Text stemming"
      ]
    },
    {
      "cell_type": "code",
      "metadata": {
        "colab_type": "code",
        "id": "wcgdJFzLwyTb",
        "outputId": "0e50d042-f1ea-4ac5-a7db-1e73208c2672",
        "colab": {}
      },
      "source": [
        "def simple_stemmer(text):\n",
        "    ps = nltk.porter.PorterStemmer()\n",
        "    text = ' '.join([ps.stem(word) for word in text.split()])\n",
        "    return text\n",
        "\n",
        "simple_stemmer(\"My system keeps crashing his crashed yesterday, ours crashes daily\")"
      ],
      "execution_count": 0,
      "outputs": [
        {
          "output_type": "execute_result",
          "data": {
            "text/plain": [
              "'My system keep crash hi crash yesterday, our crash daili'"
            ]
          },
          "metadata": {
            "tags": []
          },
          "execution_count": 32
        }
      ]
    },
    {
      "cell_type": "markdown",
      "metadata": {
        "colab_type": "text",
        "id": "Ye0-JWiawyTl"
      },
      "source": [
        "## Remove stopwords"
      ]
    },
    {
      "cell_type": "code",
      "metadata": {
        "colab_type": "code",
        "id": "iCO_6thkwyTm",
        "outputId": "4ee704cb-3ff4-4e64-f240-9577c750864a",
        "colab": {}
      },
      "source": [
        "def remove_stopwords(text, is_lower_case=False):\n",
        "    tokens = tokenizer.tokenize(text)\n",
        "    tokens = [token.strip() for token in tokens]\n",
        "    if is_lower_case:\n",
        "        filtered_tokens = [token for token in tokens if token not in stopword_list]\n",
        "    else:\n",
        "        filtered_tokens = [token for token in tokens if token.lower() not in stopword_list]\n",
        "    filtered_text = ' '.join(filtered_tokens)    \n",
        "    return filtered_text\n",
        "\n",
        "remove_stopwords(\"The, and, if are stopwords, computer is not\")"
      ],
      "execution_count": 0,
      "outputs": [
        {
          "output_type": "execute_result",
          "data": {
            "text/plain": [
              "', , stopwords , computer not'"
            ]
          },
          "metadata": {
            "tags": []
          },
          "execution_count": 33
        }
      ]
    },
    {
      "cell_type": "markdown",
      "metadata": {
        "colab_type": "text",
        "id": "S8AdJuUuwyTq"
      },
      "source": [
        "## Building a text normalizer"
      ]
    },
    {
      "cell_type": "code",
      "metadata": {
        "colab_type": "code",
        "collapsed": true,
        "id": "brUdlUOJwyTu",
        "colab": {}
      },
      "source": [
        "def normalize_corpus(corpus, html_stripping=True, contraction_expansion=True,\n",
        "                     accented_char_removal=True, text_lower_case=True, \n",
        "                     text_lemmatization=True, special_char_removal=True, \n",
        "                     stopword_removal=True, remove_digits=True):\n",
        "    \n",
        "    normalized_corpus = []\n",
        "    # normalize each document in the corpus\n",
        "    for doc in corpus:\n",
        "        # strip HTML\n",
        "        if html_stripping:\n",
        "            doc = strip_html_tags(doc)\n",
        "        # remove accented characters\n",
        "        if accented_char_removal:\n",
        "            doc = remove_accented_chars(doc)\n",
        "        # expand contractions    \n",
        "        if contraction_expansion:\n",
        "            doc = expand_contractions(doc)\n",
        "        # lowercase the text    \n",
        "        if text_lower_case:\n",
        "            doc = doc.lower()\n",
        "        # remove extra newlines\n",
        "        doc = re.sub(r'[\\r|\\n|\\r\\n]+', ' ',doc)\n",
        "        # lemmatize text\n",
        "        if text_lemmatization:\n",
        "            doc = lemmatize_text(doc)\n",
        "        # remove special characters and\\or digits    \n",
        "        if special_char_removal:\n",
        "            # insert spaces between special characters to isolate them    \n",
        "            special_char_pattern = re.compile(r'([{.(-)!}])')\n",
        "            doc = special_char_pattern.sub(\" \\\\1 \", doc)\n",
        "            doc = remove_special_characters(doc, remove_digits=remove_digits)  \n",
        "        # remove extra whitespace\n",
        "        doc = re.sub(' +', ' ', doc)\n",
        "        # remove stopwords\n",
        "        if stopword_removal:\n",
        "            doc = remove_stopwords(doc, is_lower_case=text_lower_case)\n",
        "            \n",
        "        normalized_corpus.append(doc)\n",
        "        \n",
        "    return normalized_corpus"
      ],
      "execution_count": 0,
      "outputs": []
    },
    {
      "cell_type": "markdown",
      "metadata": {
        "colab_type": "text",
        "id": "k2c5hDSNwyTw"
      },
      "source": [
        "## Pre-process and normalize news articles"
      ]
    },
    {
      "cell_type": "code",
      "metadata": {
        "colab_type": "code",
        "collapsed": true,
        "id": "1da9VaH5wyTx",
        "colab": {}
      },
      "source": [
        "news_df['full_text'] = news_df[\"news_headline\"].map(str)+ '. ' + news_df[\"news_article\"]"
      ],
      "execution_count": 0,
      "outputs": []
    },
    {
      "cell_type": "code",
      "metadata": {
        "colab_type": "code",
        "id": "rVZRnQVBwyTz",
        "outputId": "8cd71bca-4f3a-4b0e-ab10-88efd30f81c3",
        "colab": {}
      },
      "source": [
        "news_df['clean_text'] = normalize_corpus(news_df['full_text'])\n",
        "norm_corpus = list(news_df['clean_text'])\n",
        "news_df.iloc[1][['full_text', 'clean_text']].to_dict()"
      ],
      "execution_count": 0,
      "outputs": [
        {
          "output_type": "execute_result",
          "data": {
            "text/plain": [
              "{'clean_text': 'whatsapp start show ad status confirm company facebook messaging app whatsapp begin show advertisement status section app company confirm advertisement interlink advertiser profile whatsapp earlier wall street journal report say advertisement whatsapp could introduce early next year',\n",
              " 'full_text': \"WhatsApp to start showing ads in Status, confirms company. Facebook-owned messaging app WhatsApp will begin showing advertisements in the 'Status' section of the app, the company has confirmed. The advertisements will be interlinked to the advertiser's profile on WhatsApp. Earlier, a Wall Street Journal report said that the advertisements on WhatsApp could be introduced early next year.\"}"
            ]
          },
          "metadata": {
            "tags": []
          },
          "execution_count": 36
        }
      ]
    },
    {
      "cell_type": "markdown",
      "metadata": {
        "colab_type": "text",
        "id": "MpmBJJXhwyT2"
      },
      "source": [
        "# Save the news articles"
      ]
    },
    {
      "cell_type": "code",
      "metadata": {
        "colab_type": "code",
        "collapsed": true,
        "id": "NLVKFz3RwyT3",
        "colab": {}
      },
      "source": [
        "news_df.to_csv('news.csv', index=False, encoding='utf-8')"
      ],
      "execution_count": 0,
      "outputs": []
    },
    {
      "cell_type": "markdown",
      "metadata": {
        "colab_type": "text",
        "id": "lhPKJixXwyT5"
      },
      "source": [
        "# Tagging Parts of Speech"
      ]
    },
    {
      "cell_type": "code",
      "metadata": {
        "colab_type": "code",
        "collapsed": true,
        "id": "QkYP8zF6wyT6",
        "colab": {}
      },
      "source": [
        "news_df = pd.read_csv('news.csv')"
      ],
      "execution_count": 0,
      "outputs": []
    },
    {
      "cell_type": "code",
      "metadata": {
        "colab_type": "code",
        "collapsed": true,
        "id": "BWBUIun3wyT7",
        "colab": {}
      },
      "source": [
        "corpus = normalize_corpus(news_df['full_text'], text_lower_case=False, \n",
        "                          text_lemmatization=False, special_char_removal=False)\n",
        "\n",
        "sentence = str(news_df.iloc[1].news_headline)\n",
        "sentence_nlp = nlp(sentence)"
      ],
      "execution_count": 0,
      "outputs": []
    },
    {
      "cell_type": "code",
      "metadata": {
        "colab_type": "code",
        "id": "hnuUueCiwyT9",
        "outputId": "7a7a3f4d-26e5-4e37-9077-8f68ad0cbc2e",
        "colab": {}
      },
      "source": [
        "spacy_pos_tagged = [(word, word.tag_, word.pos_) for word in sentence_nlp]\n",
        "pd.DataFrame(spacy_pos_tagged, columns=['Word', 'POS tag', 'Tag type'])"
      ],
      "execution_count": 0,
      "outputs": [
        {
          "output_type": "execute_result",
          "data": {
            "text/html": [
              "<div>\n",
              "<style scoped>\n",
              "    .dataframe tbody tr th:only-of-type {\n",
              "        vertical-align: middle;\n",
              "    }\n",
              "\n",
              "    .dataframe tbody tr th {\n",
              "        vertical-align: top;\n",
              "    }\n",
              "\n",
              "    .dataframe thead th {\n",
              "        text-align: right;\n",
              "    }\n",
              "</style>\n",
              "<table border=\"1\" class=\"dataframe\">\n",
              "  <thead>\n",
              "    <tr style=\"text-align: right;\">\n",
              "      <th></th>\n",
              "      <th>Word</th>\n",
              "      <th>POS tag</th>\n",
              "      <th>Tag type</th>\n",
              "    </tr>\n",
              "  </thead>\n",
              "  <tbody>\n",
              "    <tr>\n",
              "      <th>0</th>\n",
              "      <td>WhatsApp</td>\n",
              "      <td>NNP</td>\n",
              "      <td>PROPN</td>\n",
              "    </tr>\n",
              "    <tr>\n",
              "      <th>1</th>\n",
              "      <td>to</td>\n",
              "      <td>TO</td>\n",
              "      <td>PART</td>\n",
              "    </tr>\n",
              "    <tr>\n",
              "      <th>2</th>\n",
              "      <td>start</td>\n",
              "      <td>VB</td>\n",
              "      <td>VERB</td>\n",
              "    </tr>\n",
              "    <tr>\n",
              "      <th>3</th>\n",
              "      <td>showing</td>\n",
              "      <td>VBG</td>\n",
              "      <td>VERB</td>\n",
              "    </tr>\n",
              "    <tr>\n",
              "      <th>4</th>\n",
              "      <td>ads</td>\n",
              "      <td>NNS</td>\n",
              "      <td>NOUN</td>\n",
              "    </tr>\n",
              "    <tr>\n",
              "      <th>5</th>\n",
              "      <td>in</td>\n",
              "      <td>IN</td>\n",
              "      <td>ADP</td>\n",
              "    </tr>\n",
              "    <tr>\n",
              "      <th>6</th>\n",
              "      <td>Status</td>\n",
              "      <td>NNP</td>\n",
              "      <td>PROPN</td>\n",
              "    </tr>\n",
              "    <tr>\n",
              "      <th>7</th>\n",
              "      <td>,</td>\n",
              "      <td>,</td>\n",
              "      <td>PUNCT</td>\n",
              "    </tr>\n",
              "    <tr>\n",
              "      <th>8</th>\n",
              "      <td>confirms</td>\n",
              "      <td>VBZ</td>\n",
              "      <td>VERB</td>\n",
              "    </tr>\n",
              "    <tr>\n",
              "      <th>9</th>\n",
              "      <td>company</td>\n",
              "      <td>NN</td>\n",
              "      <td>NOUN</td>\n",
              "    </tr>\n",
              "  </tbody>\n",
              "</table>\n",
              "</div>"
            ],
            "text/plain": [
              "       Word POS tag Tag type\n",
              "0  WhatsApp     NNP    PROPN\n",
              "1        to      TO     PART\n",
              "2     start      VB     VERB\n",
              "3   showing     VBG     VERB\n",
              "4       ads     NNS     NOUN\n",
              "5        in      IN      ADP\n",
              "6    Status     NNP    PROPN\n",
              "7         ,       ,    PUNCT\n",
              "8  confirms     VBZ     VERB\n",
              "9   company      NN     NOUN"
            ]
          },
          "metadata": {
            "tags": []
          },
          "execution_count": 40
        }
      ]
    },
    {
      "cell_type": "code",
      "metadata": {
        "colab_type": "code",
        "id": "Ze8tWfaCwyUB",
        "outputId": "5de92d51-5076-46bb-d8ee-e2e718869e9b",
        "colab": {}
      },
      "source": [
        "nltk.download('punkt')"
      ],
      "execution_count": 0,
      "outputs": [
        {
          "output_type": "stream",
          "text": [
            "[nltk_data] Downloading package punkt to\n",
            "[nltk_data]     C:\\Users\\Narayana_GLB\\AppData\\Roaming\\nltk_data...\n",
            "[nltk_data]   Package punkt is already up-to-date!\n"
          ],
          "name": "stdout"
        },
        {
          "output_type": "execute_result",
          "data": {
            "text/plain": [
              "True"
            ]
          },
          "metadata": {
            "tags": []
          },
          "execution_count": 41
        }
      ]
    },
    {
      "cell_type": "code",
      "metadata": {
        "colab_type": "code",
        "id": "OL40CTk4wyUF",
        "outputId": "fce9f948-036b-4e45-fca1-b9fe3784cf20",
        "colab": {}
      },
      "source": [
        "nltk.download('maxent_treebank_pos_tagger')"
      ],
      "execution_count": 0,
      "outputs": [
        {
          "output_type": "stream",
          "text": [
            "[nltk_data] Downloading package maxent_treebank_pos_tagger to\n",
            "[nltk_data]     C:\\Users\\Narayana_GLB\\AppData\\Roaming\\nltk_data...\n",
            "[nltk_data]   Package maxent_treebank_pos_tagger is already up-to-\n",
            "[nltk_data]       date!\n"
          ],
          "name": "stdout"
        },
        {
          "output_type": "execute_result",
          "data": {
            "text/plain": [
              "True"
            ]
          },
          "metadata": {
            "tags": []
          },
          "execution_count": 48
        }
      ]
    },
    {
      "cell_type": "code",
      "metadata": {
        "colab_type": "code",
        "id": "jPO-dEJ4wyUI",
        "outputId": "355728b8-0912-4ac3-e6e6-d4640be4844c",
        "colab": {}
      },
      "source": [
        "nltk.download('averaged_perceptron_tagger')"
      ],
      "execution_count": 0,
      "outputs": [
        {
          "output_type": "stream",
          "text": [
            "[nltk_data] Downloading package averaged_perceptron_tagger to\n",
            "[nltk_data]     C:\\Users\\Narayana_GLB\\AppData\\Roaming\\nltk_data...\n",
            "[nltk_data]   Package averaged_perceptron_tagger is already up-to-\n",
            "[nltk_data]       date!\n"
          ],
          "name": "stdout"
        },
        {
          "output_type": "execute_result",
          "data": {
            "text/plain": [
              "True"
            ]
          },
          "metadata": {
            "tags": []
          },
          "execution_count": 49
        }
      ]
    },
    {
      "cell_type": "code",
      "metadata": {
        "colab_type": "code",
        "collapsed": true,
        "id": "9oae5sIrwyUK",
        "colab": {}
      },
      "source": [
        "nltk_pos_tagged = nltk.pos_tag(sentence.split())"
      ],
      "execution_count": 0,
      "outputs": []
    },
    {
      "cell_type": "code",
      "metadata": {
        "colab_type": "code",
        "id": "9LipTOP_wyUM",
        "outputId": "42c7e9a6-d86d-4f01-a2ad-1366d0ab2e68",
        "colab": {}
      },
      "source": [
        "pd.DataFrame(nltk_pos_tagged, columns=['Word', 'POS tag'])"
      ],
      "execution_count": 0,
      "outputs": [
        {
          "output_type": "execute_result",
          "data": {
            "text/html": [
              "<div>\n",
              "<style scoped>\n",
              "    .dataframe tbody tr th:only-of-type {\n",
              "        vertical-align: middle;\n",
              "    }\n",
              "\n",
              "    .dataframe tbody tr th {\n",
              "        vertical-align: top;\n",
              "    }\n",
              "\n",
              "    .dataframe thead th {\n",
              "        text-align: right;\n",
              "    }\n",
              "</style>\n",
              "<table border=\"1\" class=\"dataframe\">\n",
              "  <thead>\n",
              "    <tr style=\"text-align: right;\">\n",
              "      <th></th>\n",
              "      <th>Word</th>\n",
              "      <th>POS tag</th>\n",
              "    </tr>\n",
              "  </thead>\n",
              "  <tbody>\n",
              "    <tr>\n",
              "      <th>0</th>\n",
              "      <td>WhatsApp</td>\n",
              "      <td>NNP</td>\n",
              "    </tr>\n",
              "    <tr>\n",
              "      <th>1</th>\n",
              "      <td>to</td>\n",
              "      <td>TO</td>\n",
              "    </tr>\n",
              "    <tr>\n",
              "      <th>2</th>\n",
              "      <td>start</td>\n",
              "      <td>VB</td>\n",
              "    </tr>\n",
              "    <tr>\n",
              "      <th>3</th>\n",
              "      <td>showing</td>\n",
              "      <td>VBG</td>\n",
              "    </tr>\n",
              "    <tr>\n",
              "      <th>4</th>\n",
              "      <td>ads</td>\n",
              "      <td>NNS</td>\n",
              "    </tr>\n",
              "    <tr>\n",
              "      <th>5</th>\n",
              "      <td>in</td>\n",
              "      <td>IN</td>\n",
              "    </tr>\n",
              "    <tr>\n",
              "      <th>6</th>\n",
              "      <td>Status,</td>\n",
              "      <td>NNP</td>\n",
              "    </tr>\n",
              "    <tr>\n",
              "      <th>7</th>\n",
              "      <td>confirms</td>\n",
              "      <td>NNS</td>\n",
              "    </tr>\n",
              "    <tr>\n",
              "      <th>8</th>\n",
              "      <td>company</td>\n",
              "      <td>NN</td>\n",
              "    </tr>\n",
              "  </tbody>\n",
              "</table>\n",
              "</div>"
            ],
            "text/plain": [
              "       Word POS tag\n",
              "0  WhatsApp     NNP\n",
              "1        to      TO\n",
              "2     start      VB\n",
              "3   showing     VBG\n",
              "4       ads     NNS\n",
              "5        in      IN\n",
              "6   Status,     NNP\n",
              "7  confirms     NNS\n",
              "8   company      NN"
            ]
          },
          "metadata": {
            "tags": []
          },
          "execution_count": 51
        }
      ]
    },
    {
      "cell_type": "markdown",
      "metadata": {
        "colab_type": "text",
        "id": "rKpxMH3fwyUO"
      },
      "source": [
        "# Shallow Parsing or Chunking Text"
      ]
    },
    {
      "cell_type": "code",
      "metadata": {
        "colab_type": "code",
        "id": "vavCfwQAwyUP",
        "outputId": "fe067935-fb18-4691-fe11-7e438b30ce37",
        "colab": {}
      },
      "source": [
        "nltk.download('conll2000')"
      ],
      "execution_count": 0,
      "outputs": [
        {
          "output_type": "stream",
          "text": [
            "[nltk_data] Downloading package conll2000 to\n",
            "[nltk_data]     C:\\Users\\Narayana_GLB\\AppData\\Roaming\\nltk_data...\n",
            "[nltk_data]   Package conll2000 is already up-to-date!\n"
          ],
          "name": "stdout"
        },
        {
          "output_type": "execute_result",
          "data": {
            "text/plain": [
              "True"
            ]
          },
          "metadata": {
            "tags": []
          },
          "execution_count": 52
        }
      ]
    },
    {
      "cell_type": "code",
      "metadata": {
        "colab_type": "code",
        "collapsed": true,
        "id": "OBuJTmPgwyUT",
        "colab": {}
      },
      "source": [
        "from nltk.corpus import conll2000\n",
        "data = conll2000.chunked_sents()"
      ],
      "execution_count": 0,
      "outputs": []
    },
    {
      "cell_type": "code",
      "metadata": {
        "colab_type": "code",
        "id": "enhlmtFewyUW",
        "outputId": "ff686e65-0600-4d02-de58-1e64de2b501c",
        "colab": {}
      },
      "source": [
        "train_data = data[:10900]\n",
        "test_data = data[10900:] \n",
        "print(len(train_data), len(test_data))\n",
        "print(train_data[1]) "
      ],
      "execution_count": 0,
      "outputs": [
        {
          "output_type": "stream",
          "text": [
            "10900 48\n",
            "(S\n",
            "  Chancellor/NNP\n",
            "  (PP of/IN)\n",
            "  (NP the/DT Exchequer/NNP)\n",
            "  (NP Nigel/NNP Lawson/NNP)\n",
            "  (NP 's/POS restated/VBN commitment/NN)\n",
            "  (PP to/TO)\n",
            "  (NP a/DT firm/NN monetary/JJ policy/NN)\n",
            "  (VP has/VBZ helped/VBN to/TO prevent/VB)\n",
            "  (NP a/DT freefall/NN)\n",
            "  (PP in/IN)\n",
            "  (NP sterling/NN)\n",
            "  (PP over/IN)\n",
            "  (NP the/DT past/JJ week/NN)\n",
            "  ./.)\n"
          ],
          "name": "stdout"
        }
      ]
    },
    {
      "cell_type": "markdown",
      "metadata": {
        "colab_type": "text",
        "id": "7KoPDIYjwyUZ"
      },
      "source": [
        "# Named Entity Recognition"
      ]
    },
    {
      "cell_type": "code",
      "metadata": {
        "colab_type": "code",
        "collapsed": true,
        "id": "9nMyh9XDwyUa",
        "colab": {}
      },
      "source": [
        "sentence = str(news_df.iloc[1].full_text)"
      ],
      "execution_count": 0,
      "outputs": []
    },
    {
      "cell_type": "code",
      "metadata": {
        "colab_type": "code",
        "collapsed": true,
        "id": "3mochfjKwyUc",
        "colab": {}
      },
      "source": [
        "sentence_nlp = nlp(sentence)"
      ],
      "execution_count": 0,
      "outputs": []
    },
    {
      "cell_type": "code",
      "metadata": {
        "colab_type": "code",
        "id": "O63-qvhuwyUe",
        "outputId": "bf7ee21d-25fd-40c4-f10a-083158e1d525",
        "colab": {}
      },
      "source": [
        "print([(word, word.ent_type_) for word in sentence_nlp if word.ent_type_])"
      ],
      "execution_count": 0,
      "outputs": [
        {
          "output_type": "stream",
          "text": [
            "[(WhatsApp, 'ORG'), (Status, 'ORG'), (Facebook, 'ORG'), (WhatsApp, 'ORG'), (Status, 'ORG'), (WhatsApp, 'ORG'), (Wall, 'ORG'), (Street, 'ORG'), (Journal, 'ORG'), (WhatsApp, 'ORG'), (early, 'DATE'), (next, 'DATE'), (year, 'DATE')]\n"
          ],
          "name": "stdout"
        }
      ]
    },
    {
      "cell_type": "code",
      "metadata": {
        "colab_type": "code",
        "id": "roYatNrpwyUh",
        "outputId": "6fab37ef-7e87-41ac-c4fc-3e6132fed9d0",
        "colab": {}
      },
      "source": [
        "from spacy import displacy\n",
        "displacy.render(sentence_nlp, style='ent', jupyter=True)"
      ],
      "execution_count": 0,
      "outputs": [
        {
          "output_type": "display_data",
          "data": {
            "text/html": [
              "<div class=\"entities\" style=\"line-height: 2.5\">\n",
              "<mark class=\"entity\" style=\"background: #7aecec; padding: 0.45em 0.6em; margin: 0 0.25em; line-height: 1; border-radius: 0.35em; box-decoration-break: clone; -webkit-box-decoration-break: clone\">\n",
              "    WhatsApp\n",
              "    <span style=\"font-size: 0.8em; font-weight: bold; line-height: 1; border-radius: 0.35em; text-transform: uppercase; vertical-align: middle; margin-left: 0.5rem\">ORG</span>\n",
              "</mark>\n",
              " to start showing ads in \n",
              "<mark class=\"entity\" style=\"background: #7aecec; padding: 0.45em 0.6em; margin: 0 0.25em; line-height: 1; border-radius: 0.35em; box-decoration-break: clone; -webkit-box-decoration-break: clone\">\n",
              "    Status\n",
              "    <span style=\"font-size: 0.8em; font-weight: bold; line-height: 1; border-radius: 0.35em; text-transform: uppercase; vertical-align: middle; margin-left: 0.5rem\">ORG</span>\n",
              "</mark>\n",
              ", confirms company. \n",
              "<mark class=\"entity\" style=\"background: #7aecec; padding: 0.45em 0.6em; margin: 0 0.25em; line-height: 1; border-radius: 0.35em; box-decoration-break: clone; -webkit-box-decoration-break: clone\">\n",
              "    Facebook\n",
              "    <span style=\"font-size: 0.8em; font-weight: bold; line-height: 1; border-radius: 0.35em; text-transform: uppercase; vertical-align: middle; margin-left: 0.5rem\">ORG</span>\n",
              "</mark>\n",
              "-owned messaging app \n",
              "<mark class=\"entity\" style=\"background: #7aecec; padding: 0.45em 0.6em; margin: 0 0.25em; line-height: 1; border-radius: 0.35em; box-decoration-break: clone; -webkit-box-decoration-break: clone\">\n",
              "    WhatsApp\n",
              "    <span style=\"font-size: 0.8em; font-weight: bold; line-height: 1; border-radius: 0.35em; text-transform: uppercase; vertical-align: middle; margin-left: 0.5rem\">ORG</span>\n",
              "</mark>\n",
              " will begin showing advertisements in the '\n",
              "<mark class=\"entity\" style=\"background: #7aecec; padding: 0.45em 0.6em; margin: 0 0.25em; line-height: 1; border-radius: 0.35em; box-decoration-break: clone; -webkit-box-decoration-break: clone\">\n",
              "    Status\n",
              "    <span style=\"font-size: 0.8em; font-weight: bold; line-height: 1; border-radius: 0.35em; text-transform: uppercase; vertical-align: middle; margin-left: 0.5rem\">ORG</span>\n",
              "</mark>\n",
              "' section of the app, the company has confirmed. The advertisements will be interlinked to the advertiser's profile on \n",
              "<mark class=\"entity\" style=\"background: #7aecec; padding: 0.45em 0.6em; margin: 0 0.25em; line-height: 1; border-radius: 0.35em; box-decoration-break: clone; -webkit-box-decoration-break: clone\">\n",
              "    WhatsApp\n",
              "    <span style=\"font-size: 0.8em; font-weight: bold; line-height: 1; border-radius: 0.35em; text-transform: uppercase; vertical-align: middle; margin-left: 0.5rem\">ORG</span>\n",
              "</mark>\n",
              ". Earlier, a \n",
              "<mark class=\"entity\" style=\"background: #7aecec; padding: 0.45em 0.6em; margin: 0 0.25em; line-height: 1; border-radius: 0.35em; box-decoration-break: clone; -webkit-box-decoration-break: clone\">\n",
              "    Wall Street Journal\n",
              "    <span style=\"font-size: 0.8em; font-weight: bold; line-height: 1; border-radius: 0.35em; text-transform: uppercase; vertical-align: middle; margin-left: 0.5rem\">ORG</span>\n",
              "</mark>\n",
              " report said that the advertisements on \n",
              "<mark class=\"entity\" style=\"background: #7aecec; padding: 0.45em 0.6em; margin: 0 0.25em; line-height: 1; border-radius: 0.35em; box-decoration-break: clone; -webkit-box-decoration-break: clone\">\n",
              "    WhatsApp\n",
              "    <span style=\"font-size: 0.8em; font-weight: bold; line-height: 1; border-radius: 0.35em; text-transform: uppercase; vertical-align: middle; margin-left: 0.5rem\">ORG</span>\n",
              "</mark>\n",
              " could be introduced \n",
              "<mark class=\"entity\" style=\"background: #bfe1d9; padding: 0.45em 0.6em; margin: 0 0.25em; line-height: 1; border-radius: 0.35em; box-decoration-break: clone; -webkit-box-decoration-break: clone\">\n",
              "    early next year\n",
              "    <span style=\"font-size: 0.8em; font-weight: bold; line-height: 1; border-radius: 0.35em; text-transform: uppercase; vertical-align: middle; margin-left: 0.5rem\">DATE</span>\n",
              "</mark>\n",
              ".</div>"
            ],
            "text/plain": [
              "<IPython.core.display.HTML object>"
            ]
          },
          "metadata": {
            "tags": []
          }
        }
      ]
    },
    {
      "cell_type": "code",
      "metadata": {
        "colab_type": "code",
        "collapsed": true,
        "id": "AwS1En3RwyUj",
        "colab": {}
      },
      "source": [
        "named_entities = []\n",
        "for sentence in corpus:\n",
        "    temp_entity_name = ''\n",
        "    temp_named_entity = None\n",
        "    sentence = nlp(sentence)\n",
        "    for word in sentence:\n",
        "        term = word.text \n",
        "        tag = word.ent_type_\n",
        "        if tag:\n",
        "            temp_entity_name = ' '.join([temp_entity_name, term]).strip()\n",
        "            temp_named_entity = (temp_entity_name, tag)\n",
        "        else:\n",
        "            if temp_named_entity:\n",
        "                named_entities.append(temp_named_entity)\n",
        "                temp_entity_name = ''\n",
        "                temp_named_entity = None\n",
        "\n",
        "entity_frame = pd.DataFrame(named_entities, \n",
        "                            columns=['Entity Name', 'Entity Type'])"
      ],
      "execution_count": 0,
      "outputs": []
    },
    {
      "cell_type": "code",
      "metadata": {
        "colab_type": "code",
        "id": "mLvaj9OEwyUl",
        "outputId": "c8f257d9-4767-4ba1-c3bc-469bd3fc1291",
        "colab": {}
      },
      "source": [
        "top_entities = (entity_frame.groupby(by=['Entity Name', 'Entity Type'])\n",
        "                           .size()\n",
        "                           .sort_values(ascending=False)\n",
        "                           .reset_index().rename(columns={0 : 'Frequency'}))\n",
        "top_entities.T.iloc[:,:15]"
      ],
      "execution_count": 0,
      "outputs": [
        {
          "output_type": "execute_result",
          "data": {
            "text/html": [
              "<div>\n",
              "<style scoped>\n",
              "    .dataframe tbody tr th:only-of-type {\n",
              "        vertical-align: middle;\n",
              "    }\n",
              "\n",
              "    .dataframe tbody tr th {\n",
              "        vertical-align: top;\n",
              "    }\n",
              "\n",
              "    .dataframe thead th {\n",
              "        text-align: right;\n",
              "    }\n",
              "</style>\n",
              "<table border=\"1\" class=\"dataframe\">\n",
              "  <thead>\n",
              "    <tr style=\"text-align: right;\">\n",
              "      <th></th>\n",
              "      <th>0</th>\n",
              "      <th>1</th>\n",
              "      <th>2</th>\n",
              "      <th>3</th>\n",
              "      <th>4</th>\n",
              "      <th>5</th>\n",
              "      <th>6</th>\n",
              "      <th>7</th>\n",
              "      <th>8</th>\n",
              "      <th>9</th>\n",
              "      <th>10</th>\n",
              "      <th>11</th>\n",
              "      <th>12</th>\n",
              "      <th>13</th>\n",
              "      <th>14</th>\n",
              "    </tr>\n",
              "  </thead>\n",
              "  <tbody>\n",
              "    <tr>\n",
              "      <th>Entity Name</th>\n",
              "      <td>US</td>\n",
              "      <td>India</td>\n",
              "      <td>Indian</td>\n",
              "      <td>Iran</td>\n",
              "      <td>ODI</td>\n",
              "      <td>AI</td>\n",
              "      <td>Facebook</td>\n",
              "      <td>Saudi</td>\n",
              "      <td>Parliament</td>\n",
              "      <td>WhatsApp</td>\n",
              "      <td>Google</td>\n",
              "      <td>China</td>\n",
              "      <td>Yemen</td>\n",
              "      <td>Kashmir</td>\n",
              "      <td>second</td>\n",
              "    </tr>\n",
              "    <tr>\n",
              "      <th>Entity Type</th>\n",
              "      <td>GPE</td>\n",
              "      <td>GPE</td>\n",
              "      <td>NORP</td>\n",
              "      <td>GPE</td>\n",
              "      <td>ORG</td>\n",
              "      <td>GPE</td>\n",
              "      <td>ORG</td>\n",
              "      <td>NORP</td>\n",
              "      <td>ORG</td>\n",
              "      <td>ORG</td>\n",
              "      <td>ORG</td>\n",
              "      <td>GPE</td>\n",
              "      <td>GPE</td>\n",
              "      <td>LOC</td>\n",
              "      <td>ORDINAL</td>\n",
              "    </tr>\n",
              "    <tr>\n",
              "      <th>Frequency</th>\n",
              "      <td>31</td>\n",
              "      <td>16</td>\n",
              "      <td>8</td>\n",
              "      <td>7</td>\n",
              "      <td>7</td>\n",
              "      <td>6</td>\n",
              "      <td>6</td>\n",
              "      <td>6</td>\n",
              "      <td>5</td>\n",
              "      <td>5</td>\n",
              "      <td>5</td>\n",
              "      <td>5</td>\n",
              "      <td>5</td>\n",
              "      <td>5</td>\n",
              "      <td>5</td>\n",
              "    </tr>\n",
              "  </tbody>\n",
              "</table>\n",
              "</div>"
            ],
            "text/plain": [
              "              0      1       2     3    4    5         6      7           8   \\\n",
              "Entity Name   US  India  Indian  Iran  ODI   AI  Facebook  Saudi  Parliament   \n",
              "Entity Type  GPE    GPE    NORP   GPE  ORG  GPE       ORG   NORP         ORG   \n",
              "Frequency     31     16       8     7    7    6         6      6           5   \n",
              "\n",
              "                   9       10     11     12       13       14  \n",
              "Entity Name  WhatsApp  Google  China  Yemen  Kashmir   second  \n",
              "Entity Type       ORG     ORG    GPE    GPE      LOC  ORDINAL  \n",
              "Frequency           5       5      5      5        5        5  "
            ]
          },
          "metadata": {
            "tags": []
          },
          "execution_count": 63
        }
      ]
    },
    {
      "cell_type": "code",
      "metadata": {
        "colab_type": "code",
        "id": "qQd_9FJCwyUo",
        "outputId": "adec9cca-5001-45d7-a519-936e4d1c5384",
        "colab": {}
      },
      "source": [
        "top_entities = (entity_frame.groupby(by=['Entity Type'])\n",
        "                           .size()\n",
        "                           .sort_values(ascending=False)\n",
        "                           .reset_index().rename(columns={0 : 'Frequency'}))\n",
        "top_entities.T.iloc[:,:15]"
      ],
      "execution_count": 0,
      "outputs": [
        {
          "output_type": "execute_result",
          "data": {
            "text/html": [
              "<div>\n",
              "<style scoped>\n",
              "    .dataframe tbody tr th:only-of-type {\n",
              "        vertical-align: middle;\n",
              "    }\n",
              "\n",
              "    .dataframe tbody tr th {\n",
              "        vertical-align: top;\n",
              "    }\n",
              "\n",
              "    .dataframe thead th {\n",
              "        text-align: right;\n",
              "    }\n",
              "</style>\n",
              "<table border=\"1\" class=\"dataframe\">\n",
              "  <thead>\n",
              "    <tr style=\"text-align: right;\">\n",
              "      <th></th>\n",
              "      <th>0</th>\n",
              "      <th>1</th>\n",
              "      <th>2</th>\n",
              "      <th>3</th>\n",
              "      <th>4</th>\n",
              "      <th>5</th>\n",
              "      <th>6</th>\n",
              "      <th>7</th>\n",
              "      <th>8</th>\n",
              "      <th>9</th>\n",
              "      <th>10</th>\n",
              "      <th>11</th>\n",
              "      <th>12</th>\n",
              "      <th>13</th>\n",
              "      <th>14</th>\n",
              "    </tr>\n",
              "  </thead>\n",
              "  <tbody>\n",
              "    <tr>\n",
              "      <th>Entity Type</th>\n",
              "      <td>ORG</td>\n",
              "      <td>GPE</td>\n",
              "      <td>PERSON</td>\n",
              "      <td>DATE</td>\n",
              "      <td>CARDINAL</td>\n",
              "      <td>NORP</td>\n",
              "      <td>ORDINAL</td>\n",
              "      <td>MONEY</td>\n",
              "      <td>LOC</td>\n",
              "      <td>QUANTITY</td>\n",
              "      <td>TIME</td>\n",
              "      <td>PRODUCT</td>\n",
              "      <td>FAC</td>\n",
              "      <td>EVENT</td>\n",
              "      <td>PERCENT</td>\n",
              "    </tr>\n",
              "    <tr>\n",
              "      <th>Frequency</th>\n",
              "      <td>180</td>\n",
              "      <td>161</td>\n",
              "      <td>120</td>\n",
              "      <td>69</td>\n",
              "      <td>59</td>\n",
              "      <td>51</td>\n",
              "      <td>14</td>\n",
              "      <td>13</td>\n",
              "      <td>8</td>\n",
              "      <td>5</td>\n",
              "      <td>4</td>\n",
              "      <td>4</td>\n",
              "      <td>4</td>\n",
              "      <td>3</td>\n",
              "      <td>2</td>\n",
              "    </tr>\n",
              "  </tbody>\n",
              "</table>\n",
              "</div>"
            ],
            "text/plain": [
              "              0    1       2     3         4     5        6      7    8   \\\n",
              "Entity Type  ORG  GPE  PERSON  DATE  CARDINAL  NORP  ORDINAL  MONEY  LOC   \n",
              "Frequency    180  161     120    69        59    51       14     13    8   \n",
              "\n",
              "                   9     10       11   12     13       14  \n",
              "Entity Type  QUANTITY  TIME  PRODUCT  FAC  EVENT  PERCENT  \n",
              "Frequency           5     4        4    4      3        2  "
            ]
          },
          "metadata": {
            "tags": []
          },
          "execution_count": 64
        }
      ]
    },
    {
      "cell_type": "markdown",
      "metadata": {
        "colab_type": "text",
        "id": "gSluJVAawyUq"
      },
      "source": [
        "# Optional: Post reads for residency"
      ]
    },
    {
      "cell_type": "markdown",
      "metadata": {
        "colab_type": "text",
        "id": "yac-cPR-wyUr"
      },
      "source": [
        "## Emotion and Sentiment Analysis"
      ]
    },
    {
      "cell_type": "code",
      "metadata": {
        "colab_type": "code",
        "collapsed": true,
        "id": "sAvDy-IpwyUr",
        "colab": {}
      },
      "source": [
        "from afinn import Afinn"
      ],
      "execution_count": 0,
      "outputs": []
    },
    {
      "cell_type": "code",
      "metadata": {
        "colab_type": "code",
        "collapsed": true,
        "id": "P_UjLB0ewyUt",
        "colab": {}
      },
      "source": [
        "af = Afinn()"
      ],
      "execution_count": 0,
      "outputs": []
    },
    {
      "cell_type": "code",
      "metadata": {
        "colab_type": "code",
        "collapsed": true,
        "id": "knDh4_yXwyUu",
        "colab": {}
      },
      "source": [
        "sentiment_scores = [af.score(article) for article in corpus]"
      ],
      "execution_count": 0,
      "outputs": []
    },
    {
      "cell_type": "code",
      "metadata": {
        "colab_type": "code",
        "collapsed": true,
        "id": "2bAnpAA9wyUw",
        "colab": {}
      },
      "source": [
        "sentiment_category = ['positive' if score > 0 \n",
        "                          else 'negative' if score < 0 \n",
        "                              else 'neutral' \n",
        "                                  for score in sentiment_scores]"
      ],
      "execution_count": 0,
      "outputs": []
    },
    {
      "cell_type": "code",
      "metadata": {
        "colab_type": "code",
        "collapsed": true,
        "id": "9qItumOvwyUx",
        "colab": {}
      },
      "source": [
        "df = pd.DataFrame([list(news_df['news_category']), sentiment_scores, sentiment_category]).T"
      ],
      "execution_count": 0,
      "outputs": []
    },
    {
      "cell_type": "code",
      "metadata": {
        "colab_type": "code",
        "collapsed": true,
        "id": "9DJP5keFwyUz",
        "colab": {}
      },
      "source": [
        "df.columns = ['news_category', 'sentiment_score', 'sentiment_category']"
      ],
      "execution_count": 0,
      "outputs": []
    },
    {
      "cell_type": "code",
      "metadata": {
        "colab_type": "code",
        "collapsed": true,
        "id": "48PS8cYZwyU1",
        "colab": {}
      },
      "source": [
        "df['sentiment_score'] = df.sentiment_score.astype('float')"
      ],
      "execution_count": 0,
      "outputs": []
    },
    {
      "cell_type": "code",
      "metadata": {
        "colab_type": "code",
        "id": "1roBNy9fwyU4",
        "outputId": "2215c719-a43d-46dd-9df4-b76e666a4aa7",
        "colab": {}
      },
      "source": [
        "df.groupby(by=['news_category']).describe()"
      ],
      "execution_count": 0,
      "outputs": [
        {
          "output_type": "execute_result",
          "data": {
            "text/html": [
              "<div>\n",
              "<style scoped>\n",
              "    .dataframe tbody tr th:only-of-type {\n",
              "        vertical-align: middle;\n",
              "    }\n",
              "\n",
              "    .dataframe tbody tr th {\n",
              "        vertical-align: top;\n",
              "    }\n",
              "\n",
              "    .dataframe thead tr th {\n",
              "        text-align: left;\n",
              "    }\n",
              "\n",
              "    .dataframe thead tr:last-of-type th {\n",
              "        text-align: right;\n",
              "    }\n",
              "</style>\n",
              "<table border=\"1\" class=\"dataframe\">\n",
              "  <thead>\n",
              "    <tr>\n",
              "      <th></th>\n",
              "      <th colspan=\"8\" halign=\"left\">sentiment_score</th>\n",
              "    </tr>\n",
              "    <tr>\n",
              "      <th></th>\n",
              "      <th>count</th>\n",
              "      <th>mean</th>\n",
              "      <th>std</th>\n",
              "      <th>min</th>\n",
              "      <th>25%</th>\n",
              "      <th>50%</th>\n",
              "      <th>75%</th>\n",
              "      <th>max</th>\n",
              "    </tr>\n",
              "    <tr>\n",
              "      <th>news_category</th>\n",
              "      <th></th>\n",
              "      <th></th>\n",
              "      <th></th>\n",
              "      <th></th>\n",
              "      <th></th>\n",
              "      <th></th>\n",
              "      <th></th>\n",
              "      <th></th>\n",
              "    </tr>\n",
              "  </thead>\n",
              "  <tbody>\n",
              "    <tr>\n",
              "      <th>sports</th>\n",
              "      <td>25.0</td>\n",
              "      <td>-0.24</td>\n",
              "      <td>5.994998</td>\n",
              "      <td>-16.0</td>\n",
              "      <td>-4.0</td>\n",
              "      <td>0.0</td>\n",
              "      <td>4.0</td>\n",
              "      <td>12.0</td>\n",
              "    </tr>\n",
              "    <tr>\n",
              "      <th>technology</th>\n",
              "      <td>25.0</td>\n",
              "      <td>-4.08</td>\n",
              "      <td>8.149233</td>\n",
              "      <td>-23.0</td>\n",
              "      <td>-8.0</td>\n",
              "      <td>0.0</td>\n",
              "      <td>1.0</td>\n",
              "      <td>6.0</td>\n",
              "    </tr>\n",
              "    <tr>\n",
              "      <th>world</th>\n",
              "      <td>25.0</td>\n",
              "      <td>-3.92</td>\n",
              "      <td>6.082215</td>\n",
              "      <td>-17.0</td>\n",
              "      <td>-9.0</td>\n",
              "      <td>-4.0</td>\n",
              "      <td>0.0</td>\n",
              "      <td>10.0</td>\n",
              "    </tr>\n",
              "  </tbody>\n",
              "</table>\n",
              "</div>"
            ],
            "text/plain": [
              "              sentiment_score                                           \n",
              "                        count  mean       std   min  25%  50%  75%   max\n",
              "news_category                                                           \n",
              "sports                   25.0 -0.24  5.994998 -16.0 -4.0  0.0  4.0  12.0\n",
              "technology               25.0 -4.08  8.149233 -23.0 -8.0  0.0  1.0   6.0\n",
              "world                    25.0 -3.92  6.082215 -17.0 -9.0 -4.0  0.0  10.0"
            ]
          },
          "metadata": {
            "tags": []
          },
          "execution_count": 96
        }
      ]
    },
    {
      "cell_type": "code",
      "metadata": {
        "colab_type": "code",
        "id": "MQDKdPUKwyU7",
        "outputId": "55d186d6-7703-4aab-8d68-93477274171c",
        "colab": {}
      },
      "source": [
        "f, (ax1, ax2) = plt.subplots(1, 2, figsize=(14, 4))\n",
        "sp = sns.stripplot(x='news_category', y=\"sentiment_score\",  hue='news_category', data=df, ax=ax1)\n",
        "bp = sns.boxplot(x='news_category', y=\"sentiment_score\", hue='news_category', data=df, palette=\"Set2\", ax=ax2)\n",
        "t = f.suptitle('Visualizing News Sentiment', fontsize=14)"
      ],
      "execution_count": 0,
      "outputs": [
        {
          "output_type": "stream",
          "text": [
            "C:\\ProgramData\\Anaconda3\\lib\\site-packages\\seaborn\\categorical.py:490: FutureWarning: remove_na is deprecated and is a private function. Do not use.\n",
            "  box_data = remove_na(group_data[hue_mask])\n"
          ],
          "name": "stderr"
        },
        {
          "output_type": "display_data",
          "data": {
            "image/png": "[encoded data removed]",
            "text/plain": [
              "<matplotlib.figure.Figure at 0x2132a3e2940>"
            ]
          },
          "metadata": {
            "tags": []
          }
        }
      ]
    },
    {
      "cell_type": "code",
      "metadata": {
        "colab_type": "code",
        "id": "ozIHVZ7RwyU9",
        "outputId": "a523125e-0055-4547-8890-afb9117ac3f4",
        "colab": {}
      },
      "source": [
        "fc = sns.factorplot(x=\"news_category\", hue=\"sentiment_category\", \n",
        "                    data=df, kind=\"count\", \n",
        "                    palette={\"negative\": \"#FE2020\", \n",
        "                             \"positive\": \"#BADD07\", \n",
        "                             \"neutral\": \"#68BFF5\"})"
      ],
      "execution_count": 0,
      "outputs": [
        {
          "output_type": "stream",
          "text": [
            "C:\\ProgramData\\Anaconda3\\lib\\site-packages\\seaborn\\categorical.py:1508: FutureWarning: remove_na is deprecated and is a private function. Do not use.\n",
            "  stat_data = remove_na(group_data[hue_mask])\n"
          ],
          "name": "stderr"
        },
        {
          "output_type": "display_data",
          "data": {
            "image/png": "[encoded data removed]",
            "text/plain": [
              "<matplotlib.figure.Figure at 0x2132a3de0b8>"
            ]
          },
          "metadata": {
            "tags": []
          }
        }
      ]
    },
    {
      "cell_type": "code",
      "metadata": {
        "colab_type": "code",
        "collapsed": true,
        "id": "N59YTrknwyVA",
        "colab": {}
      },
      "source": [
        "pos_idx = df[(df.news_category=='technology') & (df.sentiment_score == 2)].index[0]"
      ],
      "execution_count": 0,
      "outputs": []
    },
    {
      "cell_type": "code",
      "metadata": {
        "colab_type": "code",
        "collapsed": true,
        "id": "ldum_5xzwyVB",
        "colab": {}
      },
      "source": [
        "neg_idx = df[(df.news_category=='technology') & (df.sentiment_score == -1)].index[0]"
      ],
      "execution_count": 0,
      "outputs": []
    },
    {
      "cell_type": "code",
      "metadata": {
        "colab_type": "code",
        "id": "FL3HTOD6wyVD",
        "outputId": "e543f68a-df49-417a-dd57-42818226915e",
        "colab": {}
      },
      "source": [
        "print('Most Negative Tech News Article:', news_df.iloc[neg_idx][['news_article']][0])\n",
        "print()\n",
        "print('Most Positive Tech News Article:', news_df.iloc[pos_idx][['news_article']][0])"
      ],
      "execution_count": 0,
      "outputs": [
        {
          "output_type": "stream",
          "text": [
            "Most Negative Tech News Article: Microsoft has denied reports claiming the company routinely shared Indian bank customers' financial details with the US intelligence agencies. \"No government has direct access to any of our users' data. Data privacy is a top priority for us,\" a company spokesperson said. However, the company is required to share any customer data under orders from government agencies, the spokesperson added.\n",
            "\n",
            "Most Positive Tech News Article: Apple on Tuesday unveiled new MacBook Air laptop with retina display and Touch ID for secure login, with a starting price of $1,199 (over ₹88,000). The starting model has 13.3-inch display, 8GB memory, 128GB SSD, is 15.6 mm thin and weighs 1.25 kg. It can be pre-ordered from today in the US and will be available from November 7.\n"
          ],
          "name": "stdout"
        }
      ]
    },
    {
      "cell_type": "code",
      "metadata": {
        "colab_type": "code",
        "id": "2MljKitXwyVF",
        "outputId": "bbdb7976-e932-4818-d924-1d923f1b17f6",
        "colab": {}
      },
      "source": [
        "pos_idx = df[(df.news_category=='world') & (df.sentiment_score == 3)].index[0]\n",
        "neg_idx = df[(df.news_category=='world') & (df.sentiment_score == -6)].index[0]\n",
        "\n",
        "print('Most Negative World News Article:', news_df.iloc[neg_idx][['news_article']][0])\n",
        "print()\n",
        "print('Most Positive World News Article:', news_df.iloc[pos_idx][['news_article']][0])"
      ],
      "execution_count": 0,
      "outputs": [
        {
          "output_type": "stream",
          "text": [
            "Most Negative World News Article: Paul Makonda, the Regional Commissioner of Tanzania's Dar es Salaam city, has asked the public to report the name of any person suspected of being gay. He also announced the creation of a special team that will identify gays on social media and arrest them. Homosexuality is illegal in Tanzania, carrying a minimum jail term of 30 years.\n",
            "\n",
            "Most Positive World News Article: American rapper Kanye West has announced that he is distancing himself from politics, claiming that he has been \"used\" to spread messages he doesn't believe in.\n",
            "His announcement came after he was linked to the 'Blexit' campaign that encourages black Americans to quit the Democratic Party. West has been a vocal supporter of US President Donald Trump.\n"
          ],
          "name": "stdout"
        }
      ]
    },
    {
      "cell_type": "code",
      "metadata": {
        "colab_type": "code",
        "collapsed": true,
        "id": "sAbDgNxvwyVJ",
        "colab": {}
      },
      "source": [
        "from textblob import TextBlob"
      ],
      "execution_count": 0,
      "outputs": []
    },
    {
      "cell_type": "code",
      "metadata": {
        "colab_type": "code",
        "collapsed": true,
        "id": "ewzRy7zAwyVM",
        "colab": {}
      },
      "source": [
        "sentiment_scores_tb = [round(TextBlob(article).sentiment.polarity, 3) for article in news_df['clean_text']]"
      ],
      "execution_count": 0,
      "outputs": []
    },
    {
      "cell_type": "code",
      "metadata": {
        "colab_type": "code",
        "collapsed": true,
        "id": "dQyOoH2pwyVO",
        "colab": {}
      },
      "source": [
        "sentiment_category_tb = ['positive' if score > 0 \n",
        "                             else 'negative' if score < 0 \n",
        "                                 else 'neutral' \n",
        "                                     for score in sentiment_scores_tb]"
      ],
      "execution_count": 0,
      "outputs": []
    },
    {
      "cell_type": "code",
      "metadata": {
        "colab_type": "code",
        "id": "t59ORMF8wyVQ",
        "outputId": "47c3f857-afbe-4cd2-9610-1a01261a1e4c",
        "colab": {}
      },
      "source": [
        "df = pd.DataFrame([list(news_df['news_category']), sentiment_scores_tb, sentiment_category_tb]).T\n",
        "df.columns = ['news_category', 'sentiment_score', 'sentiment_category']\n",
        "df['sentiment_score'] = df.sentiment_score.astype('float')\n",
        "df.groupby(by=['news_category']).describe()"
      ],
      "execution_count": 0,
      "outputs": [
        {
          "output_type": "execute_result",
          "data": {
            "text/html": [
              "<div>\n",
              "<style scoped>\n",
              "    .dataframe tbody tr th:only-of-type {\n",
              "        vertical-align: middle;\n",
              "    }\n",
              "\n",
              "    .dataframe tbody tr th {\n",
              "        vertical-align: top;\n",
              "    }\n",
              "\n",
              "    .dataframe thead tr th {\n",
              "        text-align: left;\n",
              "    }\n",
              "\n",
              "    .dataframe thead tr:last-of-type th {\n",
              "        text-align: right;\n",
              "    }\n",
              "</style>\n",
              "<table border=\"1\" class=\"dataframe\">\n",
              "  <thead>\n",
              "    <tr>\n",
              "      <th></th>\n",
              "      <th colspan=\"8\" halign=\"left\">sentiment_score</th>\n",
              "    </tr>\n",
              "    <tr>\n",
              "      <th></th>\n",
              "      <th>count</th>\n",
              "      <th>mean</th>\n",
              "      <th>std</th>\n",
              "      <th>min</th>\n",
              "      <th>25%</th>\n",
              "      <th>50%</th>\n",
              "      <th>75%</th>\n",
              "      <th>max</th>\n",
              "    </tr>\n",
              "    <tr>\n",
              "      <th>news_category</th>\n",
              "      <th></th>\n",
              "      <th></th>\n",
              "      <th></th>\n",
              "      <th></th>\n",
              "      <th></th>\n",
              "      <th></th>\n",
              "      <th></th>\n",
              "      <th></th>\n",
              "    </tr>\n",
              "  </thead>\n",
              "  <tbody>\n",
              "    <tr>\n",
              "      <th>sports</th>\n",
              "      <td>25.0</td>\n",
              "      <td>0.10692</td>\n",
              "      <td>0.213254</td>\n",
              "      <td>-0.372</td>\n",
              "      <td>0.000</td>\n",
              "      <td>0.061</td>\n",
              "      <td>0.200</td>\n",
              "      <td>0.75</td>\n",
              "    </tr>\n",
              "    <tr>\n",
              "      <th>technology</th>\n",
              "      <td>25.0</td>\n",
              "      <td>0.02672</td>\n",
              "      <td>0.214270</td>\n",
              "      <td>-0.300</td>\n",
              "      <td>-0.153</td>\n",
              "      <td>0.003</td>\n",
              "      <td>0.175</td>\n",
              "      <td>0.40</td>\n",
              "    </tr>\n",
              "    <tr>\n",
              "      <th>world</th>\n",
              "      <td>25.0</td>\n",
              "      <td>-0.00840</td>\n",
              "      <td>0.172726</td>\n",
              "      <td>-0.350</td>\n",
              "      <td>-0.062</td>\n",
              "      <td>0.000</td>\n",
              "      <td>0.067</td>\n",
              "      <td>0.40</td>\n",
              "    </tr>\n",
              "  </tbody>\n",
              "</table>\n",
              "</div>"
            ],
            "text/plain": [
              "              sentiment_score                                                 \\\n",
              "                        count     mean       std    min    25%    50%    75%   \n",
              "news_category                                                                  \n",
              "sports                   25.0  0.10692  0.213254 -0.372  0.000  0.061  0.200   \n",
              "technology               25.0  0.02672  0.214270 -0.300 -0.153  0.003  0.175   \n",
              "world                    25.0 -0.00840  0.172726 -0.350 -0.062  0.000  0.067   \n",
              "\n",
              "                     \n",
              "                max  \n",
              "news_category        \n",
              "sports         0.75  \n",
              "technology     0.40  \n",
              "world          0.40  "
            ]
          },
          "metadata": {
            "tags": []
          },
          "execution_count": 106
        }
      ]
    },
    {
      "cell_type": "code",
      "metadata": {
        "colab_type": "code",
        "id": "GLIl-RV2wyVT",
        "outputId": "5798802d-c33e-4646-ceda-60485d269955",
        "colab": {}
      },
      "source": [
        "df.head()"
      ],
      "execution_count": 0,
      "outputs": [
        {
          "output_type": "execute_result",
          "data": {
            "text/html": [
              "<div>\n",
              "<style scoped>\n",
              "    .dataframe tbody tr th:only-of-type {\n",
              "        vertical-align: middle;\n",
              "    }\n",
              "\n",
              "    .dataframe tbody tr th {\n",
              "        vertical-align: top;\n",
              "    }\n",
              "\n",
              "    .dataframe thead th {\n",
              "        text-align: right;\n",
              "    }\n",
              "</style>\n",
              "<table border=\"1\" class=\"dataframe\">\n",
              "  <thead>\n",
              "    <tr style=\"text-align: right;\">\n",
              "      <th></th>\n",
              "      <th>news_category</th>\n",
              "      <th>sentiment_score</th>\n",
              "      <th>sentiment_category</th>\n",
              "    </tr>\n",
              "  </thead>\n",
              "  <tbody>\n",
              "    <tr>\n",
              "      <th>0</th>\n",
              "      <td>technology</td>\n",
              "      <td>0.088</td>\n",
              "      <td>positive</td>\n",
              "    </tr>\n",
              "    <tr>\n",
              "      <th>1</th>\n",
              "      <td>technology</td>\n",
              "      <td>0.033</td>\n",
              "      <td>positive</td>\n",
              "    </tr>\n",
              "    <tr>\n",
              "      <th>2</th>\n",
              "      <td>technology</td>\n",
              "      <td>0.112</td>\n",
              "      <td>positive</td>\n",
              "    </tr>\n",
              "    <tr>\n",
              "      <th>3</th>\n",
              "      <td>technology</td>\n",
              "      <td>0.175</td>\n",
              "      <td>positive</td>\n",
              "    </tr>\n",
              "    <tr>\n",
              "      <th>4</th>\n",
              "      <td>technology</td>\n",
              "      <td>0.400</td>\n",
              "      <td>positive</td>\n",
              "    </tr>\n",
              "  </tbody>\n",
              "</table>\n",
              "</div>"
            ],
            "text/plain": [
              "  news_category  sentiment_score sentiment_category\n",
              "0    technology            0.088           positive\n",
              "1    technology            0.033           positive\n",
              "2    technology            0.112           positive\n",
              "3    technology            0.175           positive\n",
              "4    technology            0.400           positive"
            ]
          },
          "metadata": {
            "tags": []
          },
          "execution_count": 107
        }
      ]
    },
    {
      "cell_type": "code",
      "metadata": {
        "colab_type": "code",
        "id": "EYgqpW0iwyVV",
        "outputId": "33edc03c-622b-41da-f488-e7282082c32f",
        "colab": {}
      },
      "source": [
        "fc = sns.factorplot(x=\"news_category\", hue=\"sentiment_category\", \n",
        "                    data=df, kind=\"count\", \n",
        "                    palette={\"negative\": \"#FE2020\", \n",
        "                             \"positive\": \"#BADD07\", \n",
        "                             \"neutral\": \"#68BFF5\"})"
      ],
      "execution_count": 0,
      "outputs": [
        {
          "output_type": "stream",
          "text": [
            "C:\\ProgramData\\Anaconda3\\lib\\site-packages\\seaborn\\categorical.py:1508: FutureWarning: remove_na is deprecated and is a private function. Do not use.\n",
            "  stat_data = remove_na(group_data[hue_mask])\n"
          ],
          "name": "stderr"
        },
        {
          "output_type": "display_data",
          "data": {
            "image/png": "[encoded data removed]",
            "text/plain": [
              "<matplotlib.figure.Figure at 0x2132a344f60>"
            ]
          },
          "metadata": {
            "tags": []
          }
        }
      ]
    },
    {
      "cell_type": "code",
      "metadata": {
        "colab_type": "code",
        "id": "9IYEee2zwyVW",
        "outputId": "8819c16c-b3b8-4411-f95a-1b29b76edcfa",
        "colab": {}
      },
      "source": [
        "pos_idx = df[(df.news_category=='world') & (df.sentiment_score > 0.)].index[0]\n",
        "neg_idx = df[(df.news_category=='world') & (df.sentiment_score < -0.)].index[0]\n",
        "\n",
        "print('Most Negative World News Article:', news_df.iloc[neg_idx][['news_article']][0])\n",
        "print()\n",
        "print('Most Positive World News Article:', news_df.iloc[pos_idx][['news_article']][0])"
      ],
      "execution_count": 0,
      "outputs": [
        {
          "output_type": "stream",
          "text": [
            "Most Negative World News Article: American rapper Kanye West has announced that he is distancing himself from politics, claiming that he has been \"used\" to spread messages he doesn't believe in.\n",
            "His announcement came after he was linked to the 'Blexit' campaign that encourages black Americans to quit the Democratic Party. West has been a vocal supporter of US President Donald Trump.\n",
            "\n",
            "Most Positive World News Article: India's 30-year-old Meenakshi Moorthy, who died with her 29-year-old husband after falling 800 feet at America's Yosemite National Park, warned people against taking pictures on cliff edges in March on Instagram. \"Standing at the edge of cliffs...can be fatal...Is our life just worth one photo?\" Meenakshi wrote. The couple fell to death apparently while taking a selfie, her brother-in-law said.\n"
          ],
          "name": "stdout"
        }
      ]
    },
    {
      "cell_type": "code",
      "metadata": {
        "colab_type": "code",
        "id": "D7-kyFWIwyVY",
        "outputId": "e7487f2a-e544-4f02-bbcf-53eca55f9534",
        "colab": {}
      },
      "source": [
        "import model_evaluation_utils as meu\n",
        "meu.display_confusion_matrix_pretty(true_labels=sentiment_category, \n",
        "                                    predicted_labels=sentiment_category_tb, \n",
        "                                    classes=['negative', 'neutral', 'positive'])"
      ],
      "execution_count": 0,
      "outputs": [
        {
          "output_type": "execute_result",
          "data": {
            "text/html": [
              "<div>\n",
              "<style scoped>\n",
              "    .dataframe tbody tr th:only-of-type {\n",
              "        vertical-align: middle;\n",
              "    }\n",
              "\n",
              "    .dataframe tbody tr th {\n",
              "        vertical-align: top;\n",
              "    }\n",
              "\n",
              "    .dataframe thead tr th {\n",
              "        text-align: left;\n",
              "    }\n",
              "</style>\n",
              "<table border=\"1\" class=\"dataframe\">\n",
              "  <thead>\n",
              "    <tr>\n",
              "      <th></th>\n",
              "      <th></th>\n",
              "      <th colspan=\"3\" halign=\"left\">Predicted:</th>\n",
              "    </tr>\n",
              "    <tr>\n",
              "      <th></th>\n",
              "      <th></th>\n",
              "      <th>negative</th>\n",
              "      <th>neutral</th>\n",
              "      <th>positive</th>\n",
              "    </tr>\n",
              "  </thead>\n",
              "  <tbody>\n",
              "    <tr>\n",
              "      <th rowspan=\"3\" valign=\"top\">Actual:</th>\n",
              "      <th>negative</th>\n",
              "      <td>17</td>\n",
              "      <td>9</td>\n",
              "      <td>15</td>\n",
              "    </tr>\n",
              "    <tr>\n",
              "      <th>neutral</th>\n",
              "      <td>2</td>\n",
              "      <td>2</td>\n",
              "      <td>7</td>\n",
              "    </tr>\n",
              "    <tr>\n",
              "      <th>positive</th>\n",
              "      <td>5</td>\n",
              "      <td>2</td>\n",
              "      <td>16</td>\n",
              "    </tr>\n",
              "  </tbody>\n",
              "</table>\n",
              "</div>"
            ],
            "text/plain": [
              "                 Predicted:                 \n",
              "                   negative neutral positive\n",
              "Actual: negative         17       9       15\n",
              "        neutral           2       2        7\n",
              "        positive          5       2       16"
            ]
          },
          "metadata": {
            "tags": []
          },
          "execution_count": 110
        }
      ]
    },
    {
      "cell_type": "code",
      "metadata": {
        "colab_type": "code",
        "collapsed": true,
        "id": "8hcM-EcuwyVZ",
        "colab": {}
      },
      "source": [
        ""
      ],
      "execution_count": 0,
      "outputs": []
    },
    {
      "cell_type": "code",
      "metadata": {
        "colab_type": "code",
        "collapsed": true,
        "id": "pEf4y89awyVc",
        "colab": {}
      },
      "source": [
        ""
      ],
      "execution_count": 0,
      "outputs": []
    }
  ]
}